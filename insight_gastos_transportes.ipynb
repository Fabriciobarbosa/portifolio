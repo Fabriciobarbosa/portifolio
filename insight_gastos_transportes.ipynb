{
 "cells": [
  {
   "cell_type": "markdown",
   "metadata": {},
   "source": [
    "# <center>**GASTOS COM TRANSPORTE 2014**<center>\n",
    "## Análise de dados tendo como base o arquivo referente às informações de gastos com empresas de transporte pelos órgãos da prefeitura de Porto Alegre- RS\n",
    "#### FONTE: site datapoa.org"
   ]
  },
  {
   "cell_type": "markdown",
   "metadata": {},
   "source": [
    "## 1 - OBJETIVO\n",
    "#### Pesquisa para geração de insights relativos à destinação dos recursos públicos dos órgãos ligados ao município de Porto Alegre no ano de 2014"
   ]
  },
  {
   "cell_type": "markdown",
   "metadata": {},
   "source": [
    "## 2 - PROBLEMAS\n",
    "#### Quais foram os gastos por órgão?\n",
    "#### Quais órgãos gastaram mais?\n",
    "#### Qual foi a média de gastos?\n",
    "#### Quais empresas receberam mais por seus serviços?\n",
    "#### Todos os serviços já foram pagos pelos órgãos?"
   ]
  },
  {
   "cell_type": "markdown",
   "metadata": {},
   "source": [
    "## 3 -  COLETANDO OS DADOS"
   ]
  },
  {
   "cell_type": "code",
   "execution_count": 50,
   "metadata": {},
   "outputs": [
    {
     "data": {
      "text/html": [
       "<div>\n",
       "<style scoped>\n",
       "    .dataframe tbody tr th:only-of-type {\n",
       "        vertical-align: middle;\n",
       "    }\n",
       "\n",
       "    .dataframe tbody tr th {\n",
       "        vertical-align: top;\n",
       "    }\n",
       "\n",
       "    .dataframe thead th {\n",
       "        text-align: right;\n",
       "    }\n",
       "</style>\n",
       "<table border=\"1\" class=\"dataframe\">\n",
       "  <thead>\n",
       "    <tr style=\"text-align: right;\">\n",
       "      <th></th>\n",
       "      <th>EXERCICIO</th>\n",
       "      <th>NOMEPESSOA</th>\n",
       "      <th>EMPENHO</th>\n",
       "      <th>EMPENHADO</th>\n",
       "      <th>LIQUIDADO</th>\n",
       "      <th>PAGO</th>\n",
       "      <th>CPTEMP</th>\n",
       "      <th>TIPOEMP</th>\n",
       "      <th>TPPROCCONTR</th>\n",
       "      <th>NRPROCCONTR</th>\n",
       "      <th>...</th>\n",
       "      <th>HISTORICO</th>\n",
       "      <th>NOME_ORGAO</th>\n",
       "      <th>NOME_UNIDORC</th>\n",
       "      <th>NOME_PROJATIV</th>\n",
       "      <th>NOME_RUBRICA</th>\n",
       "      <th>NOME_VINCORC</th>\n",
       "      <th>MULTIUSU</th>\n",
       "      <th>DT_LIMITE_DADOS</th>\n",
       "      <th>DTHRATU</th>\n",
       "      <th>ID_ZPRT_DESP_PASSAGENS</th>\n",
       "    </tr>\n",
       "  </thead>\n",
       "  <tbody>\n",
       "    <tr>\n",
       "      <th>0</th>\n",
       "      <td>2014</td>\n",
       "      <td>SHOPPING TOUR CÂMBIO E TURISMO LTDA           ...</td>\n",
       "      <td>46</td>\n",
       "      <td>6227,5</td>\n",
       "      <td>6227,5</td>\n",
       "      <td>6227,5</td>\n",
       "      <td>2014/01/06 00:00:00.000000000</td>\n",
       "      <td>1</td>\n",
       "      <td>PR</td>\n",
       "      <td>1.052738e+09</td>\n",
       "      <td>...</td>\n",
       "      <td>Referente a prestação de serviços de passagens...</td>\n",
       "      <td>DEPARTAMENTO MUNICIPAL DE ÁGUA E ESGOTOS      ...</td>\n",
       "      <td>DEPARTAMENTO MUNICIPAL DE ÁGUA E ESGOTOS      ...</td>\n",
       "      <td>ADMINISTRAÇÃO GERAL - DMAE                    ...</td>\n",
       "      <td>PASSAGENS AÉREAS PARA O PAÍS - SERVIDORES     ...</td>\n",
       "      <td>RECURSO LIVRE - ADMINISTRAÇÃO INDIRETA        ...</td>\n",
       "      <td>719</td>\n",
       "      <td>2014/12/31 00:00:00.000000000</td>\n",
       "      <td>2015/01/13 09:38:31.000000000</td>\n",
       "      <td>26797</td>\n",
       "    </tr>\n",
       "    <tr>\n",
       "      <th>1</th>\n",
       "      <td>2014</td>\n",
       "      <td>SHOPPING TOUR CÂMBIO E TURISMO LTDA           ...</td>\n",
       "      <td>113</td>\n",
       "      <td>1883,3</td>\n",
       "      <td>1883,3</td>\n",
       "      <td>1883,3</td>\n",
       "      <td>2014/02/07 00:00:00.000000000</td>\n",
       "      <td>1</td>\n",
       "      <td>PR</td>\n",
       "      <td>9.000174e+09</td>\n",
       "      <td>...</td>\n",
       "      <td>Valor referente a passagem aérea POA/PV/POA, p...</td>\n",
       "      <td>PREVIMPA                                      ...</td>\n",
       "      <td>ADMINISTRAÇÃO PREVIMPA                        ...</td>\n",
       "      <td>ADMINISTRAÇÃO GERAL - PREVIMPA                ...</td>\n",
       "      <td>PASSAGENS AÉREAS PARA O PAÍS - SERVIDORES     ...</td>\n",
       "      <td>RECURSO LIVRE - ADMINISTRAÇÃO INDIRETA        ...</td>\n",
       "      <td>719</td>\n",
       "      <td>2014/12/31 00:00:00.000000000</td>\n",
       "      <td>2015/01/13 09:38:31.000000000</td>\n",
       "      <td>26712</td>\n",
       "    </tr>\n",
       "    <tr>\n",
       "      <th>2</th>\n",
       "      <td>2014</td>\n",
       "      <td>SHOPPING TOUR CÂMBIO E TURISMO LTDA           ...</td>\n",
       "      <td>2984</td>\n",
       "      <td>2694,6</td>\n",
       "      <td>2694,6</td>\n",
       "      <td>2694,6</td>\n",
       "      <td>2014/02/27 00:00:00.000000000</td>\n",
       "      <td>2</td>\n",
       "      <td>LE</td>\n",
       "      <td>1.046918e+09</td>\n",
       "      <td>...</td>\n",
       "      <td>Pagto. pas.aérea a Brasília/DF para Gustavo Jo...</td>\n",
       "      <td>SECRETARIA MUNICIPAL DE EDUCAÇÃO              ...</td>\n",
       "      <td>GAB SECR., COORD.  APOIO TECN.  ADM., CONSELHO...</td>\n",
       "      <td>ADMINISTRAÇÃO GERAL - SMED - CENTRALIZADA     ...</td>\n",
       "      <td>PASSAGENS AÉREAS PARA O PAÍS - SERVIDORES     ...</td>\n",
       "      <td>MDE - MANUTENÇÃO E DESENVOLVIMENTO DO ENSINO  ...</td>\n",
       "      <td>719</td>\n",
       "      <td>2014/12/31 00:00:00.000000000</td>\n",
       "      <td>2015/01/13 09:38:31.000000000</td>\n",
       "      <td>26726</td>\n",
       "    </tr>\n",
       "    <tr>\n",
       "      <th>3</th>\n",
       "      <td>2014</td>\n",
       "      <td>SHOPPING TOUR CÂMBIO E TURISMO LTDA           ...</td>\n",
       "      <td>2986</td>\n",
       "      <td>2694,6</td>\n",
       "      <td>2694,6</td>\n",
       "      <td>2694,6</td>\n",
       "      <td>2014/02/27 00:00:00.000000000</td>\n",
       "      <td>2</td>\n",
       "      <td>PR</td>\n",
       "      <td>1.046918e+09</td>\n",
       "      <td>...</td>\n",
       "      <td>Pagto. passagem aérea p/ Eduardo Moraes Machad...</td>\n",
       "      <td>SECRETARIA MUNICIPAL DE EDUCAÇÃO              ...</td>\n",
       "      <td>GAB SECR., COORD.  APOIO TECN.  ADM., CONSELHO...</td>\n",
       "      <td>ADMINISTRAÇÃO GERAL - SMED - CENTRALIZADA     ...</td>\n",
       "      <td>PASSAGENS AÉREAS PARA O PAÍS - SERVIDORES     ...</td>\n",
       "      <td>MDE - MANUTENÇÃO E DESENVOLVIMENTO DO ENSINO  ...</td>\n",
       "      <td>719</td>\n",
       "      <td>2014/12/31 00:00:00.000000000</td>\n",
       "      <td>2015/01/13 09:38:31.000000000</td>\n",
       "      <td>26727</td>\n",
       "    </tr>\n",
       "    <tr>\n",
       "      <th>4</th>\n",
       "      <td>2014</td>\n",
       "      <td>EUROPLUS VIAGENS E TURISMO LTDA               ...</td>\n",
       "      <td>449</td>\n",
       "      <td>10000</td>\n",
       "      <td>10000</td>\n",
       "      <td>10000</td>\n",
       "      <td>2014/02/28 00:00:00.000000000</td>\n",
       "      <td>1</td>\n",
       "      <td>PP</td>\n",
       "      <td>1.000936e+09</td>\n",
       "      <td>...</td>\n",
       "      <td>PROCESSO 001.000936.14.6OBJETO DO PROCESSO: Pr...</td>\n",
       "      <td>DEPARTAMENTO MUNICIPAL DE ÁGUA E ESGOTOS      ...</td>\n",
       "      <td>DEPARTAMENTO MUNICIPAL DE ÁGUA E ESGOTOS      ...</td>\n",
       "      <td>ADMINISTRAÇÃO GERAL - DMAE                    ...</td>\n",
       "      <td>PASSAGENS AÉREAS PARA O PAÍS - SERVIDORES     ...</td>\n",
       "      <td>RECURSO LIVRE - ADMINISTRAÇÃO INDIRETA        ...</td>\n",
       "      <td>719</td>\n",
       "      <td>2014/12/31 00:00:00.000000000</td>\n",
       "      <td>2015/01/13 09:38:31.000000000</td>\n",
       "      <td>26689</td>\n",
       "    </tr>\n",
       "  </tbody>\n",
       "</table>\n",
       "<p>5 rows × 25 columns</p>\n",
       "</div>"
      ],
      "text/plain": [
       "   EXERCICIO                                         NOMEPESSOA  EMPENHO  \\\n",
       "0       2014  SHOPPING TOUR CÂMBIO E TURISMO LTDA           ...       46   \n",
       "1       2014  SHOPPING TOUR CÂMBIO E TURISMO LTDA           ...      113   \n",
       "2       2014  SHOPPING TOUR CÂMBIO E TURISMO LTDA           ...     2984   \n",
       "3       2014  SHOPPING TOUR CÂMBIO E TURISMO LTDA           ...     2986   \n",
       "4       2014  EUROPLUS VIAGENS E TURISMO LTDA               ...      449   \n",
       "\n",
       "  EMPENHADO LIQUIDADO    PAGO                         CPTEMP  TIPOEMP  \\\n",
       "0    6227,5    6227,5  6227,5  2014/01/06 00:00:00.000000000        1   \n",
       "1    1883,3    1883,3  1883,3  2014/02/07 00:00:00.000000000        1   \n",
       "2    2694,6    2694,6  2694,6  2014/02/27 00:00:00.000000000        2   \n",
       "3    2694,6    2694,6  2694,6  2014/02/27 00:00:00.000000000        2   \n",
       "4     10000     10000   10000  2014/02/28 00:00:00.000000000        1   \n",
       "\n",
       "  TPPROCCONTR   NRPROCCONTR          ...            \\\n",
       "0          PR  1.052738e+09          ...             \n",
       "1          PR  9.000174e+09          ...             \n",
       "2          LE  1.046918e+09          ...             \n",
       "3          PR  1.046918e+09          ...             \n",
       "4          PP  1.000936e+09          ...             \n",
       "\n",
       "                                           HISTORICO  \\\n",
       "0  Referente a prestação de serviços de passagens...   \n",
       "1  Valor referente a passagem aérea POA/PV/POA, p...   \n",
       "2  Pagto. pas.aérea a Brasília/DF para Gustavo Jo...   \n",
       "3  Pagto. passagem aérea p/ Eduardo Moraes Machad...   \n",
       "4  PROCESSO 001.000936.14.6OBJETO DO PROCESSO: Pr...   \n",
       "\n",
       "                                          NOME_ORGAO  \\\n",
       "0  DEPARTAMENTO MUNICIPAL DE ÁGUA E ESGOTOS      ...   \n",
       "1  PREVIMPA                                      ...   \n",
       "2  SECRETARIA MUNICIPAL DE EDUCAÇÃO              ...   \n",
       "3  SECRETARIA MUNICIPAL DE EDUCAÇÃO              ...   \n",
       "4  DEPARTAMENTO MUNICIPAL DE ÁGUA E ESGOTOS      ...   \n",
       "\n",
       "                                        NOME_UNIDORC  \\\n",
       "0  DEPARTAMENTO MUNICIPAL DE ÁGUA E ESGOTOS      ...   \n",
       "1  ADMINISTRAÇÃO PREVIMPA                        ...   \n",
       "2  GAB SECR., COORD.  APOIO TECN.  ADM., CONSELHO...   \n",
       "3  GAB SECR., COORD.  APOIO TECN.  ADM., CONSELHO...   \n",
       "4  DEPARTAMENTO MUNICIPAL DE ÁGUA E ESGOTOS      ...   \n",
       "\n",
       "                                       NOME_PROJATIV  \\\n",
       "0  ADMINISTRAÇÃO GERAL - DMAE                    ...   \n",
       "1  ADMINISTRAÇÃO GERAL - PREVIMPA                ...   \n",
       "2  ADMINISTRAÇÃO GERAL - SMED - CENTRALIZADA     ...   \n",
       "3  ADMINISTRAÇÃO GERAL - SMED - CENTRALIZADA     ...   \n",
       "4  ADMINISTRAÇÃO GERAL - DMAE                    ...   \n",
       "\n",
       "                                        NOME_RUBRICA  \\\n",
       "0  PASSAGENS AÉREAS PARA O PAÍS - SERVIDORES     ...   \n",
       "1  PASSAGENS AÉREAS PARA O PAÍS - SERVIDORES     ...   \n",
       "2  PASSAGENS AÉREAS PARA O PAÍS - SERVIDORES     ...   \n",
       "3  PASSAGENS AÉREAS PARA O PAÍS - SERVIDORES     ...   \n",
       "4  PASSAGENS AÉREAS PARA O PAÍS - SERVIDORES     ...   \n",
       "\n",
       "                                        NOME_VINCORC MULTIUSU  \\\n",
       "0  RECURSO LIVRE - ADMINISTRAÇÃO INDIRETA        ...      719   \n",
       "1  RECURSO LIVRE - ADMINISTRAÇÃO INDIRETA        ...      719   \n",
       "2  MDE - MANUTENÇÃO E DESENVOLVIMENTO DO ENSINO  ...      719   \n",
       "3  MDE - MANUTENÇÃO E DESENVOLVIMENTO DO ENSINO  ...      719   \n",
       "4  RECURSO LIVRE - ADMINISTRAÇÃO INDIRETA        ...      719   \n",
       "\n",
       "                 DT_LIMITE_DADOS                        DTHRATU  \\\n",
       "0  2014/12/31 00:00:00.000000000  2015/01/13 09:38:31.000000000   \n",
       "1  2014/12/31 00:00:00.000000000  2015/01/13 09:38:31.000000000   \n",
       "2  2014/12/31 00:00:00.000000000  2015/01/13 09:38:31.000000000   \n",
       "3  2014/12/31 00:00:00.000000000  2015/01/13 09:38:31.000000000   \n",
       "4  2014/12/31 00:00:00.000000000  2015/01/13 09:38:31.000000000   \n",
       "\n",
       "  ID_ZPRT_DESP_PASSAGENS  \n",
       "0                  26797  \n",
       "1                  26712  \n",
       "2                  26726  \n",
       "3                  26727  \n",
       "4                  26689  \n",
       "\n",
       "[5 rows x 25 columns]"
      ]
     },
     "execution_count": 50,
     "metadata": {},
     "output_type": "execute_result"
    }
   ],
   "source": [
    "# ABRINDO O ARQUIVO DA PREFEITURA\n",
    "import pandas as pd\n",
    "df_1= pd.read_csv('gastoscompassagens2014.csv', sep = ';' )\n",
    "df_1.head()"
   ]
  },
  {
   "cell_type": "markdown",
   "metadata": {},
   "source": [
    "## 4 - LIMPANDO "
   ]
  },
  {
   "cell_type": "code",
   "execution_count": 51,
   "metadata": {
    "scrolled": true
   },
   "outputs": [
    {
     "name": "stdout",
     "output_type": "stream",
     "text": [
      "Este data frame possui 568 linhas\n"
     ]
    }
   ],
   "source": [
    "# VERIFICANDO O TAMANHO\n",
    "tam = df_1.shape[0]\n",
    "print ('Este data frame possui {} linhas'.format(tam))"
   ]
  },
  {
   "cell_type": "code",
   "execution_count": 52,
   "metadata": {},
   "outputs": [
    {
     "data": {
      "text/plain": [
       "Index(['EXERCICIO', 'NOMEPESSOA', 'EMPENHO', 'EMPENHADO', 'LIQUIDADO', 'PAGO',\n",
       "       'CPTEMP', 'TIPOEMP', 'TPPROCCONTR', 'NRPROCCONTR', 'ORGAO', 'UNIDORC',\n",
       "       'PROJATIV', 'RUBRICA', 'VINCORC', 'HISTORICO', 'NOME_ORGAO',\n",
       "       'NOME_UNIDORC', 'NOME_PROJATIV', 'NOME_RUBRICA', 'NOME_VINCORC',\n",
       "       'MULTIUSU', 'DT_LIMITE_DADOS', 'DTHRATU', 'ID_ZPRT_DESP_PASSAGENS'],\n",
       "      dtype='object')"
      ]
     },
     "execution_count": 52,
     "metadata": {},
     "output_type": "execute_result"
    }
   ],
   "source": [
    "# OBSERVANDO AS VARIÁVEIS\n",
    "df_1.columns"
   ]
  },
  {
   "cell_type": "code",
   "execution_count": 53,
   "metadata": {},
   "outputs": [
    {
     "data": {
      "text/plain": [
       "EXERCICIO                   int64\n",
       "NOMEPESSOA                 object\n",
       "EMPENHO                     int64\n",
       "EMPENHADO                  object\n",
       "LIQUIDADO                  object\n",
       "PAGO                       object\n",
       "CPTEMP                     object\n",
       "TIPOEMP                     int64\n",
       "TPPROCCONTR                object\n",
       "NRPROCCONTR               float64\n",
       "ORGAO                       int64\n",
       "UNIDORC                     int64\n",
       "PROJATIV                    int64\n",
       "RUBRICA                     int64\n",
       "VINCORC                     int64\n",
       "HISTORICO                  object\n",
       "NOME_ORGAO                 object\n",
       "NOME_UNIDORC               object\n",
       "NOME_PROJATIV              object\n",
       "NOME_RUBRICA               object\n",
       "NOME_VINCORC               object\n",
       "MULTIUSU                    int64\n",
       "DT_LIMITE_DADOS            object\n",
       "DTHRATU                    object\n",
       "ID_ZPRT_DESP_PASSAGENS      int64\n",
       "dtype: object"
      ]
     },
     "execution_count": 53,
     "metadata": {},
     "output_type": "execute_result"
    }
   ],
   "source": [
    "# DESCOBRINDO OS TIPOS DE CADA VARIÁVEL\n",
    "df_1.dtypes"
   ]
  },
  {
   "cell_type": "code",
   "execution_count": 54,
   "metadata": {},
   "outputs": [
    {
     "data": {
      "text/plain": [
       "0    6227.5\n",
       "1    1883.3\n",
       "2    2694.6\n",
       "3    2694.6\n",
       "4     10000\n",
       "Name: EMPENHADO, dtype: object"
      ]
     },
     "execution_count": 54,
     "metadata": {},
     "output_type": "execute_result"
    }
   ],
   "source": [
    "# SUBSTITUINDO VÍRGULA POR PONTO PARA RETIPAGEM\n",
    "df_1['EMPENHADO']=df_1['EMPENHADO'].str.replace(',','.')\n",
    "df_1['EMPENHADO'].head()"
   ]
  },
  {
   "cell_type": "code",
   "execution_count": 55,
   "metadata": {},
   "outputs": [
    {
     "data": {
      "text/plain": [
       "0    6227.5\n",
       "1    1883.3\n",
       "2    2694.6\n",
       "3    2694.6\n",
       "4     10000\n",
       "Name: LIQUIDADO, dtype: object"
      ]
     },
     "execution_count": 55,
     "metadata": {},
     "output_type": "execute_result"
    }
   ],
   "source": [
    "# SUBSTITUINDO VÍRGULA POR PONTO PARA RETIPAGEM\n",
    "df_1['LIQUIDADO']=df_1['LIQUIDADO'].str.replace(',','.')\n",
    "df_1['LIQUIDADO'].head()"
   ]
  },
  {
   "cell_type": "code",
   "execution_count": 56,
   "metadata": {},
   "outputs": [
    {
     "data": {
      "text/plain": [
       "0    6227.5\n",
       "1    1883.3\n",
       "2    2694.6\n",
       "3    2694.6\n",
       "4     10000\n",
       "Name: PAGO, dtype: object"
      ]
     },
     "execution_count": 56,
     "metadata": {},
     "output_type": "execute_result"
    }
   ],
   "source": [
    "# SUBSTITUINDO VÍRGULA POR PONTO PARA RETIPAGEM\n",
    "df_1['PAGO']=df_1['PAGO'].str.replace(',','.')\n",
    "df_1['PAGO'].head()"
   ]
  },
  {
   "cell_type": "code",
   "execution_count": 57,
   "metadata": {},
   "outputs": [
    {
     "data": {
      "text/plain": [
       "dtype('float64')"
      ]
     },
     "execution_count": 57,
     "metadata": {},
     "output_type": "execute_result"
    }
   ],
   "source": [
    "# MODIFICANDO O TIPO DA VARIÁVEL\n",
    "df_1['EMPENHADO']=df_1['EMPENHADO'].astype('float')\n",
    "df_1['EMPENHADO'].dtype"
   ]
  },
  {
   "cell_type": "code",
   "execution_count": 58,
   "metadata": {},
   "outputs": [
    {
     "data": {
      "text/plain": [
       "dtype('float64')"
      ]
     },
     "execution_count": 58,
     "metadata": {},
     "output_type": "execute_result"
    }
   ],
   "source": [
    "# MODIFICANDO O TIPO DA VARIÁVEL\n",
    "df_1['LIQUIDADO']=df_1['LIQUIDADO'].astype('float')\n",
    "df_1['LIQUIDADO'].dtype"
   ]
  },
  {
   "cell_type": "code",
   "execution_count": 59,
   "metadata": {},
   "outputs": [
    {
     "data": {
      "text/plain": [
       "dtype('float64')"
      ]
     },
     "execution_count": 59,
     "metadata": {},
     "output_type": "execute_result"
    }
   ],
   "source": [
    "# MODIFICANDO O TIPO DA VARIÁVEL\n",
    "df_1['PAGO']=df_1['PAGO'].astype('float')\n",
    "df_1['PAGO'].dtype"
   ]
  },
  {
   "cell_type": "code",
   "execution_count": 60,
   "metadata": {},
   "outputs": [
    {
     "data": {
      "text/plain": [
       "EXERCICIO                 0\n",
       "NOMEPESSOA                0\n",
       "EMPENHO                   0\n",
       "EMPENHADO                 0\n",
       "LIQUIDADO                 0\n",
       "PAGO                      0\n",
       "CPTEMP                    0\n",
       "TIPOEMP                   0\n",
       "TPPROCCONTR               0\n",
       "NRPROCCONTR               7\n",
       "ORGAO                     0\n",
       "UNIDORC                   0\n",
       "PROJATIV                  0\n",
       "RUBRICA                   0\n",
       "VINCORC                   0\n",
       "HISTORICO                 0\n",
       "NOME_ORGAO                0\n",
       "NOME_UNIDORC              0\n",
       "NOME_PROJATIV             0\n",
       "NOME_RUBRICA              0\n",
       "NOME_VINCORC              0\n",
       "MULTIUSU                  0\n",
       "DT_LIMITE_DADOS           0\n",
       "DTHRATU                   0\n",
       "ID_ZPRT_DESP_PASSAGENS    0\n",
       "dtype: int64"
      ]
     },
     "execution_count": 60,
     "metadata": {},
     "output_type": "execute_result"
    }
   ],
   "source": [
    "# VERIFICANDO SE HÁ DADOS NULOS EM COLUNAS DE INTERESSE\n",
    "df_1.isnull().sum()\n",
    "# 7 dados nulos serão ignorados"
   ]
  },
  {
   "cell_type": "code",
   "execution_count": 61,
   "metadata": {},
   "outputs": [
    {
     "data": {
      "text/plain": [
       "0"
      ]
     },
     "execution_count": 61,
     "metadata": {},
     "output_type": "execute_result"
    }
   ],
   "source": [
    "# VERIFICANDO SE HÁ DADOS DUPLICADOS\n",
    "df_1.duplicated().sum()\n",
    "# Não há dados duplicados"
   ]
  },
  {
   "cell_type": "code",
   "execution_count": 62,
   "metadata": {},
   "outputs": [],
   "source": [
    "# IMPORTANDO BIBLIOTECA DE SÉRIE TEMPORAL\n",
    "from datetime import datetime"
   ]
  },
  {
   "cell_type": "code",
   "execution_count": 63,
   "metadata": {},
   "outputs": [
    {
     "data": {
      "text/plain": [
       "dtype('<M8[ns]')"
      ]
     },
     "execution_count": 63,
     "metadata": {},
     "output_type": "execute_result"
    }
   ],
   "source": [
    "# MODIFICANDO O TIPO\n",
    "df_1['DT_LIMITE_DADOS'] = pd.to_datetime(df_1['DT_LIMITE_DADOS'])\n",
    "df_1.DT_LIMITE_DADOS.dtypes"
   ]
  },
  {
   "cell_type": "code",
   "execution_count": 64,
   "metadata": {},
   "outputs": [
    {
     "data": {
      "text/plain": [
       "dtype('<M8[ns]')"
      ]
     },
     "execution_count": 64,
     "metadata": {},
     "output_type": "execute_result"
    }
   ],
   "source": [
    "# MODIFICANDO O TIPO\n",
    "df_1['DTHRATU'] = pd.to_datetime(df_1['DTHRATU'])\n",
    "df_1.DTHRATU.dtypes"
   ]
  },
  {
   "cell_type": "markdown",
   "metadata": {},
   "source": [
    "## 5 -  EXPLORANDO"
   ]
  },
  {
   "cell_type": "markdown",
   "metadata": {},
   "source": [
    "### 5.1 - ATUALIZAÇÃO DO CADASTRO\n",
    "### O período entre a data limite de entrega dos dados e a última atualização no cadastro foi de 13 dias"
   ]
  },
  {
   "cell_type": "code",
   "execution_count": 175,
   "metadata": {},
   "outputs": [
    {
     "data": {
      "text/plain": [
       "0   13 days 09:38:31\n",
       "1   13 days 09:38:31\n",
       "2   13 days 09:38:31\n",
       "3   13 days 09:38:31\n",
       "4   13 days 09:38:31\n",
       "dtype: timedelta64[ns]"
      ]
     },
     "execution_count": 175,
     "metadata": {},
     "output_type": "execute_result"
    }
   ],
   "source": [
    "periodo = df_1['DTHRATU'] - df_1['DT_LIMITE_DADOS']\n",
    "periodo.head()"
   ]
  },
  {
   "cell_type": "code",
   "execution_count": 66,
   "metadata": {},
   "outputs": [
    {
     "name": "stdout",
     "output_type": "stream",
     "text": [
      "13 days 09:38:31\n",
      "13 days 09:38:30\n"
     ]
    }
   ],
   "source": [
    "print(periodo.max())\n",
    "print(periodo.min())"
   ]
  },
  {
   "cell_type": "markdown",
   "metadata": {},
   "source": [
    "### 5.2 - MÉDIA DE PAGAMENTOS\n",
    "### O valor médio de gastos com transporte foi de aproximadamente R$ 8000"
   ]
  },
  {
   "cell_type": "code",
   "execution_count": 67,
   "metadata": {},
   "outputs": [
    {
     "data": {
      "text/plain": [
       "8151.093485915496"
      ]
     },
     "execution_count": 67,
     "metadata": {},
     "output_type": "execute_result"
    }
   ],
   "source": [
    "# MÉDIA DE PAGAMENTOS\n",
    "df_1.PAGO.mean()"
   ]
  },
  {
   "cell_type": "markdown",
   "metadata": {},
   "source": [
    "### 64 contratos pagaram mais de R$ 8000,00 em transportes"
   ]
  },
  {
   "cell_type": "code",
   "execution_count": 86,
   "metadata": {},
   "outputs": [
    {
     "data": {
      "text/plain": [
       "64"
      ]
     },
     "execution_count": 86,
     "metadata": {},
     "output_type": "execute_result"
    }
   ],
   "source": [
    "# FILTRO TENDO COMO BASE O VALOR DE R$ 8000,00\n",
    "mais_de_cinco = df_1.NOME_ORGAO[df_1['PAGO'] > 8000]\n",
    "mais_de_cinco.shape[0]"
   ]
  },
  {
   "cell_type": "markdown",
   "metadata": {},
   "source": [
    "### 5.3 - ÓRGÃOS QUE GASTARAM ACIMA DA MÉDIA\n",
    "### A Fundação de Assistência Social e Cidadania fechou 25 contratos acima de R$ 8000.00."
   ]
  },
  {
   "cell_type": "code",
   "execution_count": 69,
   "metadata": {},
   "outputs": [],
   "source": [
    "# RECURSOS DE VISUALIZAÇÃO\n",
    "import matplotlib.pyplot as plt\n",
    "import seaborn as sns"
   ]
  },
  {
   "cell_type": "code",
   "execution_count": 173,
   "metadata": {},
   "outputs": [
    {
     "data": {
      "text/plain": [
       "<matplotlib.axes._subplots.AxesSubplot at 0x14b470829e8>"
      ]
     },
     "execution_count": 173,
     "metadata": {},
     "output_type": "execute_result"
    },
    {
     "data": {
      "image/png": "[encoded data removed]",
      "text/plain": [
       "<Figure size 1080x360 with 1 Axes>"
      ]
     },
     "metadata": {},
     "output_type": "display_data"
    }
   ],
   "source": [
    "% matplotlib inline\n",
    "plt.figure (figsize = (15,5))\n",
    "plt.xticks(rotation = 'vertical', verticalalignment = 'bottom')\n",
    "sns.countplot(mais_de_cinco)\n",
    "\n"
   ]
  },
  {
   "cell_type": "markdown",
   "metadata": {},
   "source": [
    "### 5.4 - ÓRGÃO QUE FECHOU O CONTRATO DE MAIOR VALOR\n",
    "### A Secretaria Municipal de Educação pagou mais de 1 milhão de reais à Associação das Empresas de Transporte de Passageiros através do projeto \"Vou à escola\"."
   ]
  },
  {
   "cell_type": "code",
   "execution_count": 72,
   "metadata": {},
   "outputs": [
    {
     "data": {
      "text/plain": [
       "1373229.9"
      ]
     },
     "execution_count": 72,
     "metadata": {},
     "output_type": "execute_result"
    }
   ],
   "source": [
    "df_1.PAGO.max()"
   ]
  },
  {
   "cell_type": "code",
   "execution_count": 73,
   "metadata": {},
   "outputs": [
    {
     "data": {
      "text/plain": [
       "222    SECRETARIA MUNICIPAL DE EDUCAÇÃO              ...\n",
       "Name: NOME_ORGAO, dtype: object"
      ]
     },
     "execution_count": 73,
     "metadata": {},
     "output_type": "execute_result"
    }
   ],
   "source": [
    "valor_max = df_1.NOME_ORGAO[df_1['PAGO'] == 1373229.9]\n",
    "valor_max"
   ]
  },
  {
   "cell_type": "code",
   "execution_count": 74,
   "metadata": {},
   "outputs": [
    {
     "data": {
      "text/html": [
       "<div>\n",
       "<style scoped>\n",
       "    .dataframe tbody tr th:only-of-type {\n",
       "        vertical-align: middle;\n",
       "    }\n",
       "\n",
       "    .dataframe tbody tr th {\n",
       "        vertical-align: top;\n",
       "    }\n",
       "\n",
       "    .dataframe thead th {\n",
       "        text-align: right;\n",
       "    }\n",
       "</style>\n",
       "<table border=\"1\" class=\"dataframe\">\n",
       "  <thead>\n",
       "    <tr style=\"text-align: right;\">\n",
       "      <th></th>\n",
       "      <th>EXERCICIO</th>\n",
       "      <th>NOMEPESSOA</th>\n",
       "      <th>EMPENHO</th>\n",
       "      <th>EMPENHADO</th>\n",
       "      <th>LIQUIDADO</th>\n",
       "      <th>PAGO</th>\n",
       "      <th>CPTEMP</th>\n",
       "      <th>TIPOEMP</th>\n",
       "      <th>TPPROCCONTR</th>\n",
       "      <th>NRPROCCONTR</th>\n",
       "      <th>...</th>\n",
       "      <th>HISTORICO</th>\n",
       "      <th>NOME_ORGAO</th>\n",
       "      <th>NOME_UNIDORC</th>\n",
       "      <th>NOME_PROJATIV</th>\n",
       "      <th>NOME_RUBRICA</th>\n",
       "      <th>NOME_VINCORC</th>\n",
       "      <th>MULTIUSU</th>\n",
       "      <th>DT_LIMITE_DADOS</th>\n",
       "      <th>DTHRATU</th>\n",
       "      <th>ID_ZPRT_DESP_PASSAGENS</th>\n",
       "    </tr>\n",
       "  </thead>\n",
       "  <tbody>\n",
       "    <tr>\n",
       "      <th>222</th>\n",
       "      <td>2014</td>\n",
       "      <td>ASSOCIACAO DAS EMPRESAS DE TRANSP DE PASSAGEIR...</td>\n",
       "      <td>8075</td>\n",
       "      <td>1475000.0</td>\n",
       "      <td>1373229.9</td>\n",
       "      <td>1373229.9</td>\n",
       "      <td>2014/05/27 00:00:00.000000000</td>\n",
       "      <td>1</td>\n",
       "      <td>IX</td>\n",
       "      <td>1.028227e+09</td>\n",
       "      <td>...</td>\n",
       "      <td>Prévio empenho referente ao Projeto  Vou à Esc...</td>\n",
       "      <td>SECRETARIA MUNICIPAL DE EDUCAÇÃO              ...</td>\n",
       "      <td>ENSINOS FUNDAMENTAL, INFANTIL E ESPECIAL      ...</td>\n",
       "      <td>VOU À ESCOLA - FUNDAMENTAL                    ...</td>\n",
       "      <td>OUTRAS DESP. C/LOCOMOÇÃO - NÃO-SERVIDORES (EXC...</td>\n",
       "      <td>MDE - MANUTENÇÃO E DESENVOLVIMENTO DO ENSINO  ...</td>\n",
       "      <td>719</td>\n",
       "      <td>2014-12-31</td>\n",
       "      <td>2015-01-13 09:38:30</td>\n",
       "      <td>26279</td>\n",
       "    </tr>\n",
       "  </tbody>\n",
       "</table>\n",
       "<p>1 rows × 25 columns</p>\n",
       "</div>"
      ],
      "text/plain": [
       "     EXERCICIO                                         NOMEPESSOA  EMPENHO  \\\n",
       "222       2014  ASSOCIACAO DAS EMPRESAS DE TRANSP DE PASSAGEIR...     8075   \n",
       "\n",
       "     EMPENHADO  LIQUIDADO       PAGO                         CPTEMP  TIPOEMP  \\\n",
       "222  1475000.0  1373229.9  1373229.9  2014/05/27 00:00:00.000000000        1   \n",
       "\n",
       "    TPPROCCONTR   NRPROCCONTR          ...            \\\n",
       "222          IX  1.028227e+09          ...             \n",
       "\n",
       "                                             HISTORICO  \\\n",
       "222  Prévio empenho referente ao Projeto  Vou à Esc...   \n",
       "\n",
       "                                            NOME_ORGAO  \\\n",
       "222  SECRETARIA MUNICIPAL DE EDUCAÇÃO              ...   \n",
       "\n",
       "                                          NOME_UNIDORC  \\\n",
       "222  ENSINOS FUNDAMENTAL, INFANTIL E ESPECIAL      ...   \n",
       "\n",
       "                                         NOME_PROJATIV  \\\n",
       "222  VOU À ESCOLA - FUNDAMENTAL                    ...   \n",
       "\n",
       "                                          NOME_RUBRICA  \\\n",
       "222  OUTRAS DESP. C/LOCOMOÇÃO - NÃO-SERVIDORES (EXC...   \n",
       "\n",
       "                                          NOME_VINCORC MULTIUSU  \\\n",
       "222  MDE - MANUTENÇÃO E DESENVOLVIMENTO DO ENSINO  ...      719   \n",
       "\n",
       "    DT_LIMITE_DADOS             DTHRATU ID_ZPRT_DESP_PASSAGENS  \n",
       "222      2014-12-31 2015-01-13 09:38:30                  26279  \n",
       "\n",
       "[1 rows x 25 columns]"
      ]
     },
     "execution_count": 74,
     "metadata": {},
     "output_type": "execute_result"
    }
   ],
   "source": [
    "df_1[df_1['PAGO']==1373229.9]"
   ]
  },
  {
   "cell_type": "markdown",
   "metadata": {},
   "source": [
    "### 5.5 - VALORES NÃO PAGOS\n",
    "### Até o final de 2014, ainda havia uma dívida aproximada da prefeitura com empresas de 600 mil reais."
   ]
  },
  {
   "cell_type": "code",
   "execution_count": 75,
   "metadata": {},
   "outputs": [
    {
     "data": {
      "text/plain": [
       "596547.7000000002"
      ]
     },
     "execution_count": 75,
     "metadata": {},
     "output_type": "execute_result"
    }
   ],
   "source": [
    "divida = df_1.EMPENHADO  - df_1.PAGO\n",
    "divida.sum()"
   ]
  },
  {
   "cell_type": "markdown",
   "metadata": {},
   "source": [
    "### 5.6 - QUANTIDADE DE CONTRATOS POR EMPRESA\n",
    "### A \"Europlus Viagens e Turismo LTDA\" teve o maior número de contratos com a prefeitura durante o ano de 2014."
   ]
  },
  {
   "cell_type": "code",
   "execution_count": 174,
   "metadata": {},
   "outputs": [
    {
     "data": {
      "text/plain": [
       "<matplotlib.axes._subplots.AxesSubplot at 0x14b4a4b1f60>"
      ]
     },
     "execution_count": 174,
     "metadata": {},
     "output_type": "execute_result"
    },
    {
     "data": {
      "image/png": "[encoded data removed]",
      "text/plain": [
       "<Figure size 1080x360 with 1 Axes>"
      ]
     },
     "metadata": {},
     "output_type": "display_data"
    }
   ],
   "source": [
    "emp_rec= df_1.NOMEPESSOA[df_1['PAGO'] > 0]\n",
    "plt.figure (figsize = (15,5))\n",
    "plt.xticks(rotation = 'vertical', verticalalignment = 'bottom')\n",
    "\n",
    "sns.countplot(emp_rec)"
   ]
  },
  {
   "cell_type": "markdown",
   "metadata": {},
   "source": [
    "### 5.7 - VALORES RECEBIDOS POR EMPRESA\n",
    "### A empresa que recebeu maior valor foi a \"Associação das empresas de transporte...\", passando dos três milhôes de reais."
   ]
  },
  {
   "cell_type": "code",
   "execution_count": 77,
   "metadata": {},
   "outputs": [],
   "source": [
    "# UM PEQUENO AJUSTE\n",
    "df_1['NOMEPESSOA']=df_1['NOMEPESSOA'].str.replace('ASSOCIAÇÃO','ASSOCIACAO')"
   ]
  },
  {
   "cell_type": "code",
   "execution_count": 78,
   "metadata": {},
   "outputs": [
    {
     "data": {
      "text/plain": [
       "NOMEPESSOA\n",
       "ASSOCIACAO DAS EMPRESAS DE TRANSP DE PASSAGEIROS DE P ALEGRE    3131493.9\n",
       "EUROPLUS VIAGENS E TURISMO LTDA                                 1298037.9\n",
       "SHOPPING TOUR CÂMBIO E TURISMO LTDA                              174749.0\n",
       "CENTRAL DE SERVICOS E TURISMO RULLA LTDA                          11800.0\n",
       "N & N VIAGENS E TURISMO LTDA                                       4300.0\n",
       "M C TURISMO LTDA - ME                                              3028.6\n",
       "PARTENON TURISMO LTDA - EPP                                        2800.0\n",
       "ATENAS VIAGENS E TURISMO LTDA                                      2011.7\n",
       "GT4 LTDA                                                            800.0\n",
       "ROSI DIAS DA FONSECA                                                400.0\n",
       "JOSE LUIS VIEIRA VENTURA                                            400.0\n",
       "Name: PAGO, dtype: float64"
      ]
     },
     "execution_count": 78,
     "metadata": {},
     "output_type": "execute_result"
    }
   ],
   "source": [
    "receb_emp = df_1['PAGO'].groupby(df_1['NOMEPESSOA']).sum()\n",
    "receb_emp.sort_values(ascending=False)"
   ]
  },
  {
   "cell_type": "markdown",
   "metadata": {},
   "source": [
    "### 5.8 - MÉDIA DE VALORES RECEBIDOS POR EMPRESA\n",
    "### Apesar da média de recebimentos por empresas ser de aproximadamente R$ 420.000, nota-se a concentração de pagamentos de maior valor em duas empresas apenas"
   ]
  },
  {
   "cell_type": "code",
   "execution_count": 79,
   "metadata": {},
   "outputs": [
    {
     "data": {
      "text/plain": [
       "420892.82727272715"
      ]
     },
     "execution_count": 79,
     "metadata": {},
     "output_type": "execute_result"
    }
   ],
   "source": [
    "receb_emp.mean()"
   ]
  },
  {
   "cell_type": "code",
   "execution_count": 80,
   "metadata": {},
   "outputs": [
    {
     "data": {
      "text/plain": [
       "978428.0712133895"
      ]
     },
     "execution_count": 80,
     "metadata": {},
     "output_type": "execute_result"
    }
   ],
   "source": [
    "receb_emp.std()"
   ]
  },
  {
   "cell_type": "code",
   "execution_count": 176,
   "metadata": {},
   "outputs": [
    {
     "data": {
      "text/plain": [
       "<matplotlib.axes._subplots.AxesSubplot at 0x14b46fffef0>"
      ]
     },
     "execution_count": 176,
     "metadata": {},
     "output_type": "execute_result"
    },
    {
     "data": {
      "image/png": "[encoded data removed]",
      "text/plain": [
       "<Figure size 1080x360 with 1 Axes>"
      ]
     },
     "metadata": {},
     "output_type": "display_data"
    }
   ],
   "source": [
    "plt.figure (figsize = (15,5))\n",
    "sns.distplot(receb_emp)"
   ]
  },
  {
   "cell_type": "code",
   "execution_count": 177,
   "metadata": {},
   "outputs": [
    {
     "data": {
      "text/plain": [
       "<matplotlib.axes._subplots.AxesSubplot at 0x14b4a587828>"
      ]
     },
     "execution_count": 177,
     "metadata": {},
     "output_type": "execute_result"
    },
    {
     "data": {
      "image/png": "[encoded data removed]",
      "text/plain": [
       "<Figure size 1080x360 with 1 Axes>"
      ]
     },
     "metadata": {},
     "output_type": "display_data"
    }
   ],
   "source": [
    "plt.figure (figsize = (15,5))\n",
    "sns.boxplot(receb_emp)"
   ]
  },
  {
   "cell_type": "markdown",
   "metadata": {},
   "source": [
    "### 5.9 - RESUMO DOS GASTOS POR ÓRGAO"
   ]
  },
  {
   "cell_type": "code",
   "execution_count": 83,
   "metadata": {},
   "outputs": [],
   "source": [
    "import numpy as np"
   ]
  },
  {
   "cell_type": "code",
   "execution_count": 84,
   "metadata": {},
   "outputs": [],
   "source": [
    "resumo_gastos=pd.pivot_table(df_1,index=['NOME_ORGAO','NOMEPESSOA'],values='PAGO',aggfunc={'PAGO':np.sum})"
   ]
  },
  {
   "cell_type": "code",
   "execution_count": 85,
   "metadata": {},
   "outputs": [
    {
     "data": {
      "text/html": [
       "<div>\n",
       "<style scoped>\n",
       "    .dataframe tbody tr th:only-of-type {\n",
       "        vertical-align: middle;\n",
       "    }\n",
       "\n",
       "    .dataframe tbody tr th {\n",
       "        vertical-align: top;\n",
       "    }\n",
       "\n",
       "    .dataframe thead th {\n",
       "        text-align: right;\n",
       "    }\n",
       "</style>\n",
       "<table border=\"1\" class=\"dataframe\">\n",
       "  <thead>\n",
       "    <tr style=\"text-align: right;\">\n",
       "      <th></th>\n",
       "      <th></th>\n",
       "      <th>PAGO</th>\n",
       "    </tr>\n",
       "    <tr>\n",
       "      <th>NOME_ORGAO</th>\n",
       "      <th>NOMEPESSOA</th>\n",
       "      <th></th>\n",
       "    </tr>\n",
       "  </thead>\n",
       "  <tbody>\n",
       "    <tr>\n",
       "      <th rowspan=\"2\" valign=\"top\">DEPARTAMENTO DE ESGOTOS PLUVIAIS</th>\n",
       "      <th>EUROPLUS VIAGENS E TURISMO LTDA</th>\n",
       "      <td>3680.4</td>\n",
       "    </tr>\n",
       "    <tr>\n",
       "      <th>SHOPPING TOUR CÂMBIO E TURISMO LTDA</th>\n",
       "      <td>2253.2</td>\n",
       "    </tr>\n",
       "    <tr>\n",
       "      <th rowspan=\"3\" valign=\"top\">DEPARTAMENTO MUNICIPAL DE HABITAÇÃO</th>\n",
       "      <th>EUROPLUS VIAGENS E TURISMO LTDA</th>\n",
       "      <td>17477.1</td>\n",
       "    </tr>\n",
       "    <tr>\n",
       "      <th>M C TURISMO LTDA - ME</th>\n",
       "      <td>3028.6</td>\n",
       "    </tr>\n",
       "    <tr>\n",
       "      <th>SHOPPING TOUR CÂMBIO E TURISMO LTDA</th>\n",
       "      <td>3527.5</td>\n",
       "    </tr>\n",
       "    <tr>\n",
       "      <th>DEPARTAMENTO MUNICIPAL DE LIMPEZA URBANA</th>\n",
       "      <th>EUROPLUS VIAGENS E TURISMO LTDA</th>\n",
       "      <td>1328.2</td>\n",
       "    </tr>\n",
       "    <tr>\n",
       "      <th rowspan=\"2\" valign=\"top\">DEPARTAMENTO MUNICIPAL DE ÁGUA E ESGOTOS</th>\n",
       "      <th>EUROPLUS VIAGENS E TURISMO LTDA</th>\n",
       "      <td>45459.5</td>\n",
       "    </tr>\n",
       "    <tr>\n",
       "      <th>SHOPPING TOUR CÂMBIO E TURISMO LTDA</th>\n",
       "      <td>6227.5</td>\n",
       "    </tr>\n",
       "    <tr>\n",
       "      <th rowspan=\"2\" valign=\"top\">FUNDAÇÃO DE ASSISTÊNCIA SOCIAL E CIDADANIA</th>\n",
       "      <th>ASSOCIACAO DAS EMPRESAS DE TRANSP DE PASSAGEIROS DE P ALEGRE</th>\n",
       "      <td>835032.8</td>\n",
       "    </tr>\n",
       "    <tr>\n",
       "      <th>EUROPLUS VIAGENS E TURISMO LTDA</th>\n",
       "      <td>18031.2</td>\n",
       "    </tr>\n",
       "    <tr>\n",
       "      <th rowspan=\"2\" valign=\"top\">GABINETE DO PREFEITO</th>\n",
       "      <th>EUROPLUS VIAGENS E TURISMO LTDA</th>\n",
       "      <td>118829.5</td>\n",
       "    </tr>\n",
       "    <tr>\n",
       "      <th>SHOPPING TOUR CÂMBIO E TURISMO LTDA</th>\n",
       "      <td>14823.6</td>\n",
       "    </tr>\n",
       "    <tr>\n",
       "      <th rowspan=\"2\" valign=\"top\">PREVIMPA</th>\n",
       "      <th>EUROPLUS VIAGENS E TURISMO LTDA</th>\n",
       "      <td>5075.2</td>\n",
       "    </tr>\n",
       "    <tr>\n",
       "      <th>SHOPPING TOUR CÂMBIO E TURISMO LTDA</th>\n",
       "      <td>1883.3</td>\n",
       "    </tr>\n",
       "    <tr>\n",
       "      <th rowspan=\"2\" valign=\"top\">PROCURADORIA GERAL DO MUNICÍPIO</th>\n",
       "      <th>EUROPLUS VIAGENS E TURISMO LTDA</th>\n",
       "      <td>53337.8</td>\n",
       "    </tr>\n",
       "    <tr>\n",
       "      <th>SHOPPING TOUR CÂMBIO E TURISMO LTDA</th>\n",
       "      <td>5651.6</td>\n",
       "    </tr>\n",
       "    <tr>\n",
       "      <th>SECRETARIA  MUNICIPAL DE URBANISMO</th>\n",
       "      <th>EUROPLUS VIAGENS E TURISMO LTDA</th>\n",
       "      <td>1015.2</td>\n",
       "    </tr>\n",
       "    <tr>\n",
       "      <th>SECRETARIA ESPECIAL DOS DIREITOS ANIMAIS</th>\n",
       "      <th>EUROPLUS VIAGENS E TURISMO LTDA</th>\n",
       "      <td>2189.8</td>\n",
       "    </tr>\n",
       "    <tr>\n",
       "      <th rowspan=\"2\" valign=\"top\">SECRETARIA EXTRAORDINÁRIA DA COPA DE 2014</th>\n",
       "      <th>EUROPLUS VIAGENS E TURISMO LTDA</th>\n",
       "      <td>4984.5</td>\n",
       "    </tr>\n",
       "    <tr>\n",
       "      <th>SHOPPING TOUR CÂMBIO E TURISMO LTDA</th>\n",
       "      <td>3771.5</td>\n",
       "    </tr>\n",
       "    <tr>\n",
       "      <th rowspan=\"2\" valign=\"top\">SECRETARIA MUNICIPAL DA CULTURA</th>\n",
       "      <th>EUROPLUS VIAGENS E TURISMO LTDA</th>\n",
       "      <td>419863.7</td>\n",
       "    </tr>\n",
       "    <tr>\n",
       "      <th>SHOPPING TOUR CÂMBIO E TURISMO LTDA</th>\n",
       "      <td>1077.4</td>\n",
       "    </tr>\n",
       "    <tr>\n",
       "      <th rowspan=\"2\" valign=\"top\">SECRETARIA MUNICIPAL DA FAZENDA</th>\n",
       "      <th>EUROPLUS VIAGENS E TURISMO LTDA</th>\n",
       "      <td>68485.6</td>\n",
       "    </tr>\n",
       "    <tr>\n",
       "      <th>SHOPPING TOUR CÂMBIO E TURISMO LTDA</th>\n",
       "      <td>9530.6</td>\n",
       "    </tr>\n",
       "    <tr>\n",
       "      <th>SECRETARIA MUNICIPAL DA JUVENTUDE</th>\n",
       "      <th>EUROPLUS VIAGENS E TURISMO LTDA</th>\n",
       "      <td>4143.4</td>\n",
       "    </tr>\n",
       "    <tr>\n",
       "      <th rowspan=\"2\" valign=\"top\">SECRETARIA MUNICIPAL DA PRODUÇÃO, INDÚSTRIA E COMÉRCIO</th>\n",
       "      <th>ATENAS VIAGENS E TURISMO LTDA</th>\n",
       "      <td>2011.7</td>\n",
       "    </tr>\n",
       "    <tr>\n",
       "      <th>EUROPLUS VIAGENS E TURISMO LTDA</th>\n",
       "      <td>6108.0</td>\n",
       "    </tr>\n",
       "    <tr>\n",
       "      <th>SECRETARIA MUNICIPAL DE ACESSIBILIDADE E INCLUSÃO SOCIAL</th>\n",
       "      <th>EUROPLUS VIAGENS E TURISMO LTDA</th>\n",
       "      <td>9044.9</td>\n",
       "    </tr>\n",
       "    <tr>\n",
       "      <th>SECRETARIA MUNICIPAL DE ADMINISTRAÇÃO</th>\n",
       "      <th>EUROPLUS VIAGENS E TURISMO LTDA</th>\n",
       "      <td>1704.1</td>\n",
       "    </tr>\n",
       "    <tr>\n",
       "      <th rowspan=\"3\" valign=\"top\">SECRETARIA MUNICIPAL DE DIREITOS HUMANOS</th>\n",
       "      <th>CENTRAL DE SERVICOS E TURISMO RULLA LTDA</th>\n",
       "      <td>4800.0</td>\n",
       "    </tr>\n",
       "    <tr>\n",
       "      <th>EUROPLUS VIAGENS E TURISMO LTDA</th>\n",
       "      <td>29440.0</td>\n",
       "    </tr>\n",
       "    <tr>\n",
       "      <th>SHOPPING TOUR CÂMBIO E TURISMO LTDA</th>\n",
       "      <td>2799.6</td>\n",
       "    </tr>\n",
       "    <tr>\n",
       "      <th rowspan=\"3\" valign=\"top\">SECRETARIA MUNICIPAL DE EDUCAÇÃO</th>\n",
       "      <th>ASSOCIACAO DAS EMPRESAS DE TRANSP DE PASSAGEIROS DE P ALEGRE</th>\n",
       "      <td>2293101.1</td>\n",
       "    </tr>\n",
       "    <tr>\n",
       "      <th>EUROPLUS VIAGENS E TURISMO LTDA</th>\n",
       "      <td>69960.4</td>\n",
       "    </tr>\n",
       "    <tr>\n",
       "      <th>SHOPPING TOUR CÂMBIO E TURISMO LTDA</th>\n",
       "      <td>6823.8</td>\n",
       "    </tr>\n",
       "    <tr>\n",
       "      <th rowspan=\"3\" valign=\"top\">SECRETARIA MUNICIPAL DE ESPORTES, RECREAÇÃO E LAZER</th>\n",
       "      <th>EUROPLUS VIAGENS E TURISMO LTDA</th>\n",
       "      <td>8627.7</td>\n",
       "    </tr>\n",
       "    <tr>\n",
       "      <th>JOSE LUIS VIEIRA VENTURA</th>\n",
       "      <td>400.0</td>\n",
       "    </tr>\n",
       "    <tr>\n",
       "      <th>ROSI DIAS DA FONSECA</th>\n",
       "      <td>400.0</td>\n",
       "    </tr>\n",
       "    <tr>\n",
       "      <th rowspan=\"2\" valign=\"top\">SECRETARIA MUNICIPAL DE GESTÃO</th>\n",
       "      <th>EUROPLUS VIAGENS E TURISMO LTDA</th>\n",
       "      <td>22317.0</td>\n",
       "    </tr>\n",
       "    <tr>\n",
       "      <th>SHOPPING TOUR CÂMBIO E TURISMO LTDA</th>\n",
       "      <td>5362.7</td>\n",
       "    </tr>\n",
       "    <tr>\n",
       "      <th rowspan=\"4\" valign=\"top\">SECRETARIA MUNICIPAL DE GOVERNANÇA LOCAL</th>\n",
       "      <th>CENTRAL DE SERVICOS E TURISMO RULLA LTDA</th>\n",
       "      <td>3000.0</td>\n",
       "    </tr>\n",
       "    <tr>\n",
       "      <th>EUROPLUS VIAGENS E TURISMO LTDA</th>\n",
       "      <td>145577.8</td>\n",
       "    </tr>\n",
       "    <tr>\n",
       "      <th>N &amp; N VIAGENS E TURISMO LTDA</th>\n",
       "      <td>4300.0</td>\n",
       "    </tr>\n",
       "    <tr>\n",
       "      <th>SHOPPING TOUR CÂMBIO E TURISMO LTDA</th>\n",
       "      <td>100128.8</td>\n",
       "    </tr>\n",
       "    <tr>\n",
       "      <th>SECRETARIA MUNICIPAL DE OBRAS E VIAÇÃO</th>\n",
       "      <th>EUROPLUS VIAGENS E TURISMO LTDA</th>\n",
       "      <td>21713.9</td>\n",
       "    </tr>\n",
       "    <tr>\n",
       "      <th rowspan=\"5\" valign=\"top\">SECRETARIA MUNICIPAL DE SAÚDE</th>\n",
       "      <th>CENTRAL DE SERVICOS E TURISMO RULLA LTDA</th>\n",
       "      <td>2000.0</td>\n",
       "    </tr>\n",
       "    <tr>\n",
       "      <th>EUROPLUS VIAGENS E TURISMO LTDA</th>\n",
       "      <td>122948.1</td>\n",
       "    </tr>\n",
       "    <tr>\n",
       "      <th>GT4 LTDA</th>\n",
       "      <td>800.0</td>\n",
       "    </tr>\n",
       "    <tr>\n",
       "      <th>PARTENON TURISMO LTDA - EPP</th>\n",
       "      <td>2800.0</td>\n",
       "    </tr>\n",
       "    <tr>\n",
       "      <th>SHOPPING TOUR CÂMBIO E TURISMO LTDA</th>\n",
       "      <td>3131.0</td>\n",
       "    </tr>\n",
       "    <tr>\n",
       "      <th>SECRETARIA MUNICIPAL DE SEGURANÇA</th>\n",
       "      <th>EUROPLUS VIAGENS E TURISMO LTDA</th>\n",
       "      <td>7413.5</td>\n",
       "    </tr>\n",
       "    <tr>\n",
       "      <th rowspan=\"2\" valign=\"top\">SECRETARIA MUNICIPAL DE TURISMO</th>\n",
       "      <th>EUROPLUS VIAGENS E TURISMO LTDA</th>\n",
       "      <td>26667.5</td>\n",
       "    </tr>\n",
       "    <tr>\n",
       "      <th>SHOPPING TOUR CÂMBIO E TURISMO LTDA</th>\n",
       "      <td>1312.0</td>\n",
       "    </tr>\n",
       "    <tr>\n",
       "      <th rowspan=\"3\" valign=\"top\">SECRETARIA MUNICIPAL DO MEIO AMBIENTE</th>\n",
       "      <th>CENTRAL DE SERVICOS E TURISMO RULLA LTDA</th>\n",
       "      <td>2000.0</td>\n",
       "    </tr>\n",
       "    <tr>\n",
       "      <th>EUROPLUS VIAGENS E TURISMO LTDA</th>\n",
       "      <td>1603.5</td>\n",
       "    </tr>\n",
       "    <tr>\n",
       "      <th>SHOPPING TOUR CÂMBIO E TURISMO LTDA</th>\n",
       "      <td>2787.0</td>\n",
       "    </tr>\n",
       "    <tr>\n",
       "      <th rowspan=\"2\" valign=\"top\">SECRETARIA MUNICIPAL DO PLANEJAMENTO ESTRATÉGICO E ORÇAMENTO</th>\n",
       "      <th>EUROPLUS VIAGENS E TURISMO LTDA</th>\n",
       "      <td>23245.6</td>\n",
       "    </tr>\n",
       "    <tr>\n",
       "      <th>SHOPPING TOUR CÂMBIO E TURISMO LTDA</th>\n",
       "      <td>3657.9</td>\n",
       "    </tr>\n",
       "    <tr>\n",
       "      <th rowspan=\"2\" valign=\"top\">SECRETARIA MUNICIPAL DO TRABALHO E EMPREGO</th>\n",
       "      <th>ASSOCIACAO DAS EMPRESAS DE TRANSP DE PASSAGEIROS DE P ALEGRE</th>\n",
       "      <td>3360.0</td>\n",
       "    </tr>\n",
       "    <tr>\n",
       "      <th>EUROPLUS VIAGENS E TURISMO LTDA</th>\n",
       "      <td>37764.8</td>\n",
       "    </tr>\n",
       "  </tbody>\n",
       "</table>\n",
       "</div>"
      ],
      "text/plain": [
       "                                                                                                            PAGO\n",
       "NOME_ORGAO                                         NOMEPESSOA                                                   \n",
       "DEPARTAMENTO DE ESGOTOS PLUVIAIS               ... EUROPLUS VIAGENS E TURISMO LTDA                ...     3680.4\n",
       "                                                   SHOPPING TOUR CÂMBIO E TURISMO LTDA            ...     2253.2\n",
       "DEPARTAMENTO MUNICIPAL DE HABITAÇÃO            ... EUROPLUS VIAGENS E TURISMO LTDA                ...    17477.1\n",
       "                                                   M C TURISMO LTDA - ME                          ...     3028.6\n",
       "                                                   SHOPPING TOUR CÂMBIO E TURISMO LTDA            ...     3527.5\n",
       "DEPARTAMENTO MUNICIPAL DE LIMPEZA URBANA       ... EUROPLUS VIAGENS E TURISMO LTDA                ...     1328.2\n",
       "DEPARTAMENTO MUNICIPAL DE ÁGUA E ESGOTOS       ... EUROPLUS VIAGENS E TURISMO LTDA                ...    45459.5\n",
       "                                                   SHOPPING TOUR CÂMBIO E TURISMO LTDA            ...     6227.5\n",
       "FUNDAÇÃO DE ASSISTÊNCIA SOCIAL E CIDADANIA     ... ASSOCIACAO DAS EMPRESAS DE TRANSP DE PASSAGEIRO...   835032.8\n",
       "                                                   EUROPLUS VIAGENS E TURISMO LTDA                ...    18031.2\n",
       "GABINETE DO PREFEITO                           ... EUROPLUS VIAGENS E TURISMO LTDA                ...   118829.5\n",
       "                                                   SHOPPING TOUR CÂMBIO E TURISMO LTDA            ...    14823.6\n",
       "PREVIMPA                                       ... EUROPLUS VIAGENS E TURISMO LTDA                ...     5075.2\n",
       "                                                   SHOPPING TOUR CÂMBIO E TURISMO LTDA            ...     1883.3\n",
       "PROCURADORIA GERAL DO MUNICÍPIO                ... EUROPLUS VIAGENS E TURISMO LTDA                ...    53337.8\n",
       "                                                   SHOPPING TOUR CÂMBIO E TURISMO LTDA            ...     5651.6\n",
       "SECRETARIA  MUNICIPAL DE URBANISMO             ... EUROPLUS VIAGENS E TURISMO LTDA                ...     1015.2\n",
       "SECRETARIA ESPECIAL DOS DIREITOS ANIMAIS       ... EUROPLUS VIAGENS E TURISMO LTDA                ...     2189.8\n",
       "SECRETARIA EXTRAORDINÁRIA DA COPA DE 2014      ... EUROPLUS VIAGENS E TURISMO LTDA                ...     4984.5\n",
       "                                                   SHOPPING TOUR CÂMBIO E TURISMO LTDA            ...     3771.5\n",
       "SECRETARIA MUNICIPAL DA CULTURA                ... EUROPLUS VIAGENS E TURISMO LTDA                ...   419863.7\n",
       "                                                   SHOPPING TOUR CÂMBIO E TURISMO LTDA            ...     1077.4\n",
       "SECRETARIA MUNICIPAL DA FAZENDA                ... EUROPLUS VIAGENS E TURISMO LTDA                ...    68485.6\n",
       "                                                   SHOPPING TOUR CÂMBIO E TURISMO LTDA            ...     9530.6\n",
       "SECRETARIA MUNICIPAL DA JUVENTUDE              ... EUROPLUS VIAGENS E TURISMO LTDA                ...     4143.4\n",
       "SECRETARIA MUNICIPAL DA PRODUÇÃO, INDÚSTRIA E C... ATENAS VIAGENS E TURISMO LTDA                  ...     2011.7\n",
       "                                                   EUROPLUS VIAGENS E TURISMO LTDA                ...     6108.0\n",
       "SECRETARIA MUNICIPAL DE ACESSIBILIDADE E INCLUS... EUROPLUS VIAGENS E TURISMO LTDA                ...     9044.9\n",
       "SECRETARIA MUNICIPAL DE ADMINISTRAÇÃO          ... EUROPLUS VIAGENS E TURISMO LTDA                ...     1704.1\n",
       "SECRETARIA MUNICIPAL DE DIREITOS HUMANOS       ... CENTRAL DE SERVICOS E TURISMO RULLA LTDA       ...     4800.0\n",
       "                                                   EUROPLUS VIAGENS E TURISMO LTDA                ...    29440.0\n",
       "                                                   SHOPPING TOUR CÂMBIO E TURISMO LTDA            ...     2799.6\n",
       "SECRETARIA MUNICIPAL DE EDUCAÇÃO               ... ASSOCIACAO DAS EMPRESAS DE TRANSP DE PASSAGEIRO...  2293101.1\n",
       "                                                   EUROPLUS VIAGENS E TURISMO LTDA                ...    69960.4\n",
       "                                                   SHOPPING TOUR CÂMBIO E TURISMO LTDA            ...     6823.8\n",
       "SECRETARIA MUNICIPAL DE ESPORTES, RECREAÇÃO E L... EUROPLUS VIAGENS E TURISMO LTDA                ...     8627.7\n",
       "                                                   JOSE LUIS VIEIRA VENTURA                       ...      400.0\n",
       "                                                   ROSI DIAS DA FONSECA                           ...      400.0\n",
       "SECRETARIA MUNICIPAL DE GESTÃO                 ... EUROPLUS VIAGENS E TURISMO LTDA                ...    22317.0\n",
       "                                                   SHOPPING TOUR CÂMBIO E TURISMO LTDA            ...     5362.7\n",
       "SECRETARIA MUNICIPAL DE GOVERNANÇA LOCAL       ... CENTRAL DE SERVICOS E TURISMO RULLA LTDA       ...     3000.0\n",
       "                                                   EUROPLUS VIAGENS E TURISMO LTDA                ...   145577.8\n",
       "                                                   N & N VIAGENS E TURISMO LTDA                   ...     4300.0\n",
       "                                                   SHOPPING TOUR CÂMBIO E TURISMO LTDA            ...   100128.8\n",
       "SECRETARIA MUNICIPAL DE OBRAS E VIAÇÃO         ... EUROPLUS VIAGENS E TURISMO LTDA                ...    21713.9\n",
       "SECRETARIA MUNICIPAL DE SAÚDE                  ... CENTRAL DE SERVICOS E TURISMO RULLA LTDA       ...     2000.0\n",
       "                                                   EUROPLUS VIAGENS E TURISMO LTDA                ...   122948.1\n",
       "                                                   GT4 LTDA                                       ...      800.0\n",
       "                                                   PARTENON TURISMO LTDA - EPP                    ...     2800.0\n",
       "                                                   SHOPPING TOUR CÂMBIO E TURISMO LTDA            ...     3131.0\n",
       "SECRETARIA MUNICIPAL DE SEGURANÇA              ... EUROPLUS VIAGENS E TURISMO LTDA                ...     7413.5\n",
       "SECRETARIA MUNICIPAL DE TURISMO                ... EUROPLUS VIAGENS E TURISMO LTDA                ...    26667.5\n",
       "                                                   SHOPPING TOUR CÂMBIO E TURISMO LTDA            ...     1312.0\n",
       "SECRETARIA MUNICIPAL DO MEIO AMBIENTE          ... CENTRAL DE SERVICOS E TURISMO RULLA LTDA       ...     2000.0\n",
       "                                                   EUROPLUS VIAGENS E TURISMO LTDA                ...     1603.5\n",
       "                                                   SHOPPING TOUR CÂMBIO E TURISMO LTDA            ...     2787.0\n",
       "SECRETARIA MUNICIPAL DO PLANEJAMENTO ESTRATÉGIC... EUROPLUS VIAGENS E TURISMO LTDA                ...    23245.6\n",
       "                                                   SHOPPING TOUR CÂMBIO E TURISMO LTDA            ...     3657.9\n",
       "SECRETARIA MUNICIPAL DO TRABALHO E EMPREGO     ... ASSOCIACAO DAS EMPRESAS DE TRANSP DE PASSAGEIRO...     3360.0\n",
       "                                                   EUROPLUS VIAGENS E TURISMO LTDA                ...    37764.8"
      ]
     },
     "execution_count": 85,
     "metadata": {},
     "output_type": "execute_result"
    }
   ],
   "source": [
    "resumo_gastos"
   ]
  },
  {
   "cell_type": "markdown",
   "metadata": {},
   "source": [
    "#### DADOS COLETADOS NO SITE datapoa.org DURANTE O ANO DE 2020\n",
    "#### TECNOLOGIA UTILIZADA: Jupyter notebook , Python, Pandas, Numpy, Matplotlib e Seaborn\n",
    "#### O OBJETIVO DA ANÁLISE É DE CARÁTER DIDÁTICO E EXPERIMENTAL\n",
    "#### CONTATO: sfs.rj@hotmail.com"
   ]
  },
  {
   "cell_type": "code",
   "execution_count": null,
   "metadata": {},
   "outputs": [],
   "source": []
  }
 ],
 "metadata": {
  "kernelspec": {
   "display_name": "Python 3",
   "language": "python",
   "name": "python3"
  },
  "language_info": {
   "codemirror_mode": {
    "name": "ipython",
    "version": 3
   },
   "file_extension": ".py",
   "mimetype": "text/x-python",
   "name": "python",
   "nbconvert_exporter": "python",
   "pygments_lexer": "ipython3",
   "version": "3.6.5"
  }
 },
 "nbformat": 4,
 "nbformat_minor": 2
}
