{
 "cells": [
  {
   "cell_type": "code",
   "execution_count": 1,
   "metadata": {},
   "outputs": [],
   "source": [
    "# IMPORTANDO AS BIBLIOTECAS BÁSICAS\n",
    "import pandas as pd\n",
    "import numpy as np\n",
    "import matplotlib.pyplot as plt\n",
    "import seaborn as sns\n",
    "% matplotlib inline"
   ]
  },
  {
   "cell_type": "markdown",
   "metadata": {},
   "source": [
    "# **MODELO DE PREVISÃO DE CARCINOMA HEPATOCELULAR**"
   ]
  },
  {
   "cell_type": "markdown",
   "metadata": {},
   "source": [
    "### Carcinoma Hepatocelular é o tipo de câncer mais comum no fígado. Ocorre geralmente em pessoas que possuem problema de cirrose hepática. Seu diagnóstico é geralmente baseado em exames de sangue e imagem. Aos portadores de vírus da hepatite B, o risco de Carcinoma aumenta em aproximadamente 100 vezes.\n",
    "(msdmanuals.com/pt-br/casa)"
   ]
  },
  {
   "cell_type": "markdown",
   "metadata": {},
   "source": [
    "## **1 . OBJETIVO GERAL**\n",
    "### Criar um modelo de Machine Learning que possa prever a probabilidade de letalidade ou sobrevivência do paciente com base em determinados dados pessoais de exames específicos"
   ]
  },
  {
   "cell_type": "markdown",
   "metadata": {},
   "source": [
    "## **2 . OBJETIVOS ESPECÍFICOS**\n",
    "### Explorar o conjunto de dados a fim de obter correlações entre características pessoais e letalidade"
   ]
  },
  {
   "cell_type": "markdown",
   "metadata": {},
   "source": [
    "## **3 . COLETANDO DADOS**"
   ]
  },
  {
   "cell_type": "markdown",
   "metadata": {},
   "source": [
    "### Dados coletados a partir de arquivo disponibilizado na plataforma do Kaggle"
   ]
  },
  {
   "cell_type": "code",
   "execution_count": 4,
   "metadata": {},
   "outputs": [
    {
     "data": {
      "text/html": [
       "<div>\n",
       "<style scoped>\n",
       "    .dataframe tbody tr th:only-of-type {\n",
       "        vertical-align: middle;\n",
       "    }\n",
       "\n",
       "    .dataframe tbody tr th {\n",
       "        vertical-align: top;\n",
       "    }\n",
       "\n",
       "    .dataframe thead th {\n",
       "        text-align: right;\n",
       "    }\n",
       "</style>\n",
       "<table border=\"1\" class=\"dataframe\">\n",
       "  <thead>\n",
       "    <tr style=\"text-align: right;\">\n",
       "      <th></th>\n",
       "      <th>Gender</th>\n",
       "      <th>Symptoms</th>\n",
       "      <th>Alcohol</th>\n",
       "      <th>HBsAg</th>\n",
       "      <th>HBeAg</th>\n",
       "      <th>HBcAb</th>\n",
       "      <th>HCVAb</th>\n",
       "      <th>Cirrhosis</th>\n",
       "      <th>Endemic</th>\n",
       "      <th>Smoking</th>\n",
       "      <th>...</th>\n",
       "      <th>ALP</th>\n",
       "      <th>TP</th>\n",
       "      <th>Creatinine</th>\n",
       "      <th>Nodule</th>\n",
       "      <th>Major_Dim</th>\n",
       "      <th>Dir_Bil</th>\n",
       "      <th>Iron</th>\n",
       "      <th>Sat</th>\n",
       "      <th>Ferritin</th>\n",
       "      <th>Class</th>\n",
       "    </tr>\n",
       "  </thead>\n",
       "  <tbody>\n",
       "    <tr>\n",
       "      <th>0</th>\n",
       "      <td>1</td>\n",
       "      <td>0</td>\n",
       "      <td>1</td>\n",
       "      <td>0</td>\n",
       "      <td>0</td>\n",
       "      <td>0</td>\n",
       "      <td>0</td>\n",
       "      <td>1</td>\n",
       "      <td>0</td>\n",
       "      <td>1</td>\n",
       "      <td>...</td>\n",
       "      <td>150</td>\n",
       "      <td>7,1</td>\n",
       "      <td>0,7</td>\n",
       "      <td>1</td>\n",
       "      <td>3,5</td>\n",
       "      <td>0,5</td>\n",
       "      <td>52,5</td>\n",
       "      <td>37</td>\n",
       "      <td>856</td>\n",
       "      <td>1</td>\n",
       "    </tr>\n",
       "    <tr>\n",
       "      <th>1</th>\n",
       "      <td>0</td>\n",
       "      <td>0</td>\n",
       "      <td>0</td>\n",
       "      <td>0</td>\n",
       "      <td>0</td>\n",
       "      <td>0</td>\n",
       "      <td>1</td>\n",
       "      <td>1</td>\n",
       "      <td>0</td>\n",
       "      <td>1</td>\n",
       "      <td>...</td>\n",
       "      <td>120</td>\n",
       "      <td>7</td>\n",
       "      <td>0,58</td>\n",
       "      <td>1</td>\n",
       "      <td>1,8</td>\n",
       "      <td>0,85</td>\n",
       "      <td>32</td>\n",
       "      <td>10</td>\n",
       "      <td>18</td>\n",
       "      <td>1</td>\n",
       "    </tr>\n",
       "    <tr>\n",
       "      <th>2</th>\n",
       "      <td>1</td>\n",
       "      <td>0</td>\n",
       "      <td>1</td>\n",
       "      <td>1</td>\n",
       "      <td>0</td>\n",
       "      <td>1</td>\n",
       "      <td>0</td>\n",
       "      <td>1</td>\n",
       "      <td>0</td>\n",
       "      <td>1</td>\n",
       "      <td>...</td>\n",
       "      <td>109</td>\n",
       "      <td>7</td>\n",
       "      <td>2,1</td>\n",
       "      <td>5</td>\n",
       "      <td>13</td>\n",
       "      <td>0,1</td>\n",
       "      <td>28</td>\n",
       "      <td>6</td>\n",
       "      <td>16</td>\n",
       "      <td>1</td>\n",
       "    </tr>\n",
       "    <tr>\n",
       "      <th>3</th>\n",
       "      <td>1</td>\n",
       "      <td>1</td>\n",
       "      <td>1</td>\n",
       "      <td>0</td>\n",
       "      <td>0</td>\n",
       "      <td>0</td>\n",
       "      <td>0</td>\n",
       "      <td>1</td>\n",
       "      <td>0</td>\n",
       "      <td>1</td>\n",
       "      <td>...</td>\n",
       "      <td>174</td>\n",
       "      <td>8,1</td>\n",
       "      <td>1,11</td>\n",
       "      <td>2</td>\n",
       "      <td>15,7</td>\n",
       "      <td>0,2</td>\n",
       "      <td>131</td>\n",
       "      <td>78</td>\n",
       "      <td>1316</td>\n",
       "      <td>0</td>\n",
       "    </tr>\n",
       "    <tr>\n",
       "      <th>4</th>\n",
       "      <td>1</td>\n",
       "      <td>1</td>\n",
       "      <td>1</td>\n",
       "      <td>1</td>\n",
       "      <td>0</td>\n",
       "      <td>1</td>\n",
       "      <td>0</td>\n",
       "      <td>1</td>\n",
       "      <td>0</td>\n",
       "      <td>1</td>\n",
       "      <td>...</td>\n",
       "      <td>109</td>\n",
       "      <td>6,9</td>\n",
       "      <td>1,8</td>\n",
       "      <td>1</td>\n",
       "      <td>9</td>\n",
       "      <td>0,1</td>\n",
       "      <td>59</td>\n",
       "      <td>15</td>\n",
       "      <td>22</td>\n",
       "      <td>1</td>\n",
       "    </tr>\n",
       "  </tbody>\n",
       "</table>\n",
       "<p>5 rows × 50 columns</p>\n",
       "</div>"
      ],
      "text/plain": [
       "   Gender  Symptoms  Alcohol  HBsAg  HBeAg  HBcAb  HCVAb  Cirrhosis  Endemic  \\\n",
       "0       1         0        1      0      0      0      0          1        0   \n",
       "1       0         0        0      0      0      0      1          1        0   \n",
       "2       1         0        1      1      0      1      0          1        0   \n",
       "3       1         1        1      0      0      0      0          1        0   \n",
       "4       1         1        1      1      0      1      0          1        0   \n",
       "\n",
       "   Smoking  ...    ALP   TP  Creatinine  Nodule  Major_Dim  Dir_Bil  Iron  \\\n",
       "0        1  ...    150  7,1         0,7       1        3,5      0,5  52,5   \n",
       "1        1  ...    120    7        0,58       1        1,8     0,85    32   \n",
       "2        1  ...    109    7         2,1       5         13      0,1    28   \n",
       "3        1  ...    174  8,1        1,11       2       15,7      0,2   131   \n",
       "4        1  ...    109  6,9         1,8       1          9      0,1    59   \n",
       "\n",
       "   Sat  Ferritin  Class  \n",
       "0   37       856      1  \n",
       "1   10        18      1  \n",
       "2    6        16      1  \n",
       "3   78      1316      0  \n",
       "4   15        22      1  \n",
       "\n",
       "[5 rows x 50 columns]"
      ]
     },
     "execution_count": 4,
     "metadata": {},
     "output_type": "execute_result"
    }
   ],
   "source": [
    "df_1 = pd.read_csv('hcc-data-complete-balanced.csv')\n",
    "df_1.head()"
   ]
  },
  {
   "cell_type": "markdown",
   "metadata": {},
   "source": [
    "## **4 . LIMPANDO OS DADOS**"
   ]
  },
  {
   "cell_type": "markdown",
   "metadata": {},
   "source": [
    "### O processo de ETL (Extração, Transformação e  'Load' (carregamento dos dados)) é fundamental para que o algoritmo possua um desempenho aceitável."
   ]
  },
  {
   "cell_type": "code",
   "execution_count": 5,
   "metadata": {
    "scrolled": true
   },
   "outputs": [
    {
     "data": {
      "text/plain": [
       "(204, 50)"
      ]
     },
     "execution_count": 5,
     "metadata": {},
     "output_type": "execute_result"
    }
   ],
   "source": [
    "# QUANTIDADE DE LINHAS E COLUNAS DO CONJUNTO DE DADOS\n",
    "df_1.shape"
   ]
  },
  {
   "cell_type": "markdown",
   "metadata": {},
   "source": [
    "<kbd>Nota-se que há poucos dados no dataset, o que praticamente inviabilizaria a aplicação numa situação real<kbd>"
   ]
  },
  {
   "cell_type": "code",
   "execution_count": 6,
   "metadata": {},
   "outputs": [],
   "source": [
    "# ELIMINANDO FEATURES COM INFORMAÇÕES PARECIDAS OU AVALIADAS COMO IRRELEVANTES\n",
    "df_1.drop(['HBsAg','HBeAg','HBcAb','HCVAb','Endemic','Hemochro','HIV','NASH','Varices','Spleno','PHT','PVT',\n",
    "           'Hallmark','PS','Encephalopathy','Ascites','INR','AFP','AHT','CRI','Ferritin'],axis = 1, inplace = True )\n"
   ]
  },
  {
   "cell_type": "code",
   "execution_count": 7,
   "metadata": {},
   "outputs": [
    {
     "data": {
      "text/plain": [
       "Gender         int64\n",
       "Symptoms       int64\n",
       "Alcohol        int64\n",
       "Cirrhosis      int64\n",
       "Smoking        int64\n",
       "Diabetes       int64\n",
       "Obesity        int64\n",
       "Metastasis     int64\n",
       "Age            int64\n",
       "Grams_day      int64\n",
       "Packs_year    object\n",
       "Hemoglobin    object\n",
       "MCV           object\n",
       "Leucocytes    object\n",
       "Platelets     object\n",
       "Albumin       object\n",
       "Total_Bil     object\n",
       "ALT            int64\n",
       "AST            int64\n",
       "GGT            int64\n",
       "ALP            int64\n",
       "TP            object\n",
       "Creatinine    object\n",
       "Nodule         int64\n",
       "Major_Dim     object\n",
       "Dir_Bil       object\n",
       "Iron          object\n",
       "Sat           object\n",
       "Class          int64\n",
       "dtype: object"
      ]
     },
     "execution_count": 7,
     "metadata": {},
     "output_type": "execute_result"
    }
   ],
   "source": [
    "# VERIFICANDO OS TIPOS \n",
    "df_1.dtypes"
   ]
  },
  {
   "cell_type": "code",
   "execution_count": 8,
   "metadata": {},
   "outputs": [],
   "source": [
    "# TRANSFORMANDO VÍRGULAS EM PONTOS\n",
    "# O DATASET ESTÁ REPRESENTANDO OS DECIMAIS POR VÍRGULA, O QUE O PYTHON NÃO RECONHECE\n",
    "\n",
    "df_1['Packs_year'] = df_1['Packs_year'].str.replace(',','.')\n",
    "df_1['Hemoglobin'] = df_1['Hemoglobin'].str.replace(',','.')\n",
    "df_1['MCV'] = df_1['MCV'].str.replace(',','.')\n",
    "df_1['Leucocytes'] = df_1['Leucocytes'].str.replace(',','.')\n",
    "df_1['Platelets'] = df_1['Platelets'].str.replace(',','.')\n",
    "df_1['Albumin'] = df_1['Albumin'].str.replace(',','.')\n",
    "df_1['Total_Bil'] = df_1['Total_Bil'].str.replace(',','.')\n",
    "df_1['TP'] = df_1['TP'].str.replace(',','.')\n",
    "df_1['Creatinine'] = df_1['Creatinine'].str.replace(',','.')\n",
    "df_1['Major_Dim'] = df_1['Major_Dim'].str.replace(',','.')\n",
    "df_1['Dir_Bil'] = df_1['Dir_Bil'].str.replace(',','.')\n",
    "df_1['Iron'] = df_1['Iron'].str.replace(',','.')\n",
    "df_1['Sat'] = df_1['Sat'].str.replace(',','.')"
   ]
  },
  {
   "cell_type": "code",
   "execution_count": 9,
   "metadata": {},
   "outputs": [],
   "source": [
    "#CONVERTENDO TIPOS\n",
    "# Por conta das vírgulas,o Python leu alguns atributos como strings. Será necessário transformá-los para tipos numéricos\n",
    "\n",
    "df_1['Packs_year'] = df_1['Packs_year'].astype('float')\n",
    "df_1['Hemoglobin'] = df_1['Hemoglobin'].astype('float')\n",
    "df_1['MCV'] = df_1['MCV'].astype('float')\n",
    "df_1['Leucocytes'] = df_1['Leucocytes'].astype('float')\n",
    "df_1['Platelets'] = df_1['Platelets'].astype('float')\n",
    "df_1['Albumin'] = df_1['Albumin'].astype('float')\n",
    "df_1['Total_Bil'] = df_1['Total_Bil'].astype('float')\n",
    "df_1['TP'] = df_1['TP'].astype('float')\n",
    "df_1['Creatinine'] = df_1['Creatinine'].astype('float')\n",
    "df_1['Major_Dim'] = df_1['Major_Dim'].astype('float')\n",
    "df_1['Dir_Bil'] = df_1['Dir_Bil'].astype('float')\n",
    "df_1['Iron'] = df_1['Iron'].astype('float')\n",
    "df_1['Sat'] = df_1['Sat'].astype('float')\n"
   ]
  },
  {
   "cell_type": "code",
   "execution_count": 10,
   "metadata": {},
   "outputs": [
    {
     "data": {
      "text/plain": [
       "Gender        0\n",
       "Symptoms      0\n",
       "Alcohol       0\n",
       "Cirrhosis     0\n",
       "Smoking       0\n",
       "Diabetes      0\n",
       "Obesity       0\n",
       "Metastasis    0\n",
       "Age           0\n",
       "Grams_day     0\n",
       "Packs_year    0\n",
       "Hemoglobin    0\n",
       "MCV           0\n",
       "Leucocytes    0\n",
       "Platelets     0\n",
       "Albumin       0\n",
       "Total_Bil     0\n",
       "ALT           0\n",
       "AST           0\n",
       "GGT           0\n",
       "ALP           0\n",
       "TP            0\n",
       "Creatinine    0\n",
       "Nodule        0\n",
       "Major_Dim     0\n",
       "Dir_Bil       0\n",
       "Iron          0\n",
       "Sat           0\n",
       "Class         0\n",
       "dtype: int64"
      ]
     },
     "execution_count": 10,
     "metadata": {},
     "output_type": "execute_result"
    }
   ],
   "source": [
    "# VERFIFICANDO DADOS NULOS\n",
    "df_1.isnull().sum()"
   ]
  },
  {
   "cell_type": "code",
   "execution_count": 11,
   "metadata": {},
   "outputs": [
    {
     "data": {
      "text/plain": [
       "0"
      ]
     },
     "execution_count": 11,
     "metadata": {},
     "output_type": "execute_result"
    }
   ],
   "source": [
    "#VERIFICANDO DADOS DUPLICADOS\n",
    "df_1.duplicated().sum()"
   ]
  },
  {
   "cell_type": "markdown",
   "metadata": {},
   "source": [
    "## **5 . EXPLORANDO DADOS**\n"
   ]
  },
  {
   "cell_type": "markdown",
   "metadata": {},
   "source": [
    "### Uma rápida verificação de como os dados estão distribuídos. Principalmente se as classes estão sofrendo algum tipo de desequilíbrio e como se apresentam as correlações de determinadas Features."
   ]
  },
  {
   "cell_type": "code",
   "execution_count": 12,
   "metadata": {},
   "outputs": [
    {
     "data": {
      "text/plain": [
       "<matplotlib.axes._subplots.AxesSubplot at 0x1c5f6a88668>"
      ]
     },
     "execution_count": 12,
     "metadata": {},
     "output_type": "execute_result"
    },
    {
     "data": {
      "image/png": "[encoded data removed]",
      "text/plain": [
       "<Figure size 432x288 with 1 Axes>"
      ]
     },
     "metadata": {},
     "output_type": "display_data"
    }
   ],
   "source": [
    "# SOBREVIVÊNCIA AO CÂNCER POR GÊNERO\n",
    "# Gender: gênero 0 FEMININO / 1 MASCULINO\n",
    "# Class : saída  0 ÓBITO / 1 SOBREVIVE\n",
    "\n",
    "sns.countplot(x=\"Class\", hue=\"Gender\", data=df_1)"
   ]
  },
  {
   "cell_type": "markdown",
   "metadata": {},
   "source": [
    "<kbd>Pela distribuição das labels, parece que o dataset já foi preparado para aplicação de Machine Learning<kbd>"
   ]
  },
  {
   "cell_type": "code",
   "execution_count": 13,
   "metadata": {
    "scrolled": true
   },
   "outputs": [
    {
     "data": {
      "text/html": [
       "<div>\n",
       "<style scoped>\n",
       "    .dataframe tbody tr th:only-of-type {\n",
       "        vertical-align: middle;\n",
       "    }\n",
       "\n",
       "    .dataframe tbody tr th {\n",
       "        vertical-align: top;\n",
       "    }\n",
       "\n",
       "    .dataframe thead th {\n",
       "        text-align: right;\n",
       "    }\n",
       "</style>\n",
       "<table border=\"1\" class=\"dataframe\">\n",
       "  <thead>\n",
       "    <tr style=\"text-align: right;\">\n",
       "      <th></th>\n",
       "      <th>Gender</th>\n",
       "      <th>Symptoms</th>\n",
       "      <th>Alcohol</th>\n",
       "      <th>Cirrhosis</th>\n",
       "      <th>Smoking</th>\n",
       "      <th>Diabetes</th>\n",
       "      <th>Obesity</th>\n",
       "      <th>Metastasis</th>\n",
       "      <th>Age</th>\n",
       "      <th>Grams_day</th>\n",
       "      <th>...</th>\n",
       "      <th>GGT</th>\n",
       "      <th>ALP</th>\n",
       "      <th>TP</th>\n",
       "      <th>Creatinine</th>\n",
       "      <th>Nodule</th>\n",
       "      <th>Major_Dim</th>\n",
       "      <th>Dir_Bil</th>\n",
       "      <th>Iron</th>\n",
       "      <th>Sat</th>\n",
       "      <th>Class</th>\n",
       "    </tr>\n",
       "  </thead>\n",
       "  <tbody>\n",
       "    <tr>\n",
       "      <th>count</th>\n",
       "      <td>204.000000</td>\n",
       "      <td>204.000000</td>\n",
       "      <td>204.000000</td>\n",
       "      <td>204.000000</td>\n",
       "      <td>204.000000</td>\n",
       "      <td>204.000000</td>\n",
       "      <td>204.000000</td>\n",
       "      <td>204.000000</td>\n",
       "      <td>204.000000</td>\n",
       "      <td>204.000000</td>\n",
       "      <td>...</td>\n",
       "      <td>204.000000</td>\n",
       "      <td>204.000000</td>\n",
       "      <td>204.000000</td>\n",
       "      <td>204.000000</td>\n",
       "      <td>204.000000</td>\n",
       "      <td>204.000000</td>\n",
       "      <td>204.000000</td>\n",
       "      <td>204.000000</td>\n",
       "      <td>204.000000</td>\n",
       "      <td>204.00000</td>\n",
       "    </tr>\n",
       "    <tr>\n",
       "      <th>mean</th>\n",
       "      <td>0.794118</td>\n",
       "      <td>0.691176</td>\n",
       "      <td>0.720588</td>\n",
       "      <td>0.897059</td>\n",
       "      <td>0.450980</td>\n",
       "      <td>0.357843</td>\n",
       "      <td>0.107843</td>\n",
       "      <td>0.250000</td>\n",
       "      <td>65.529412</td>\n",
       "      <td>75.294118</td>\n",
       "      <td>...</td>\n",
       "      <td>271.441176</td>\n",
       "      <td>221.176471</td>\n",
       "      <td>9.500490</td>\n",
       "      <td>1.137794</td>\n",
       "      <td>2.735294</td>\n",
       "      <td>6.888235</td>\n",
       "      <td>1.740637</td>\n",
       "      <td>87.455392</td>\n",
       "      <td>39.948333</td>\n",
       "      <td>0.50000</td>\n",
       "    </tr>\n",
       "    <tr>\n",
       "      <th>std</th>\n",
       "      <td>0.405340</td>\n",
       "      <td>0.463145</td>\n",
       "      <td>0.449814</td>\n",
       "      <td>0.304630</td>\n",
       "      <td>0.498815</td>\n",
       "      <td>0.480545</td>\n",
       "      <td>0.310945</td>\n",
       "      <td>0.434078</td>\n",
       "      <td>12.778296</td>\n",
       "      <td>63.181354</td>\n",
       "      <td>...</td>\n",
       "      <td>251.681481</td>\n",
       "      <td>168.852570</td>\n",
       "      <td>13.093015</td>\n",
       "      <td>0.950662</td>\n",
       "      <td>1.735894</td>\n",
       "      <td>4.832694</td>\n",
       "      <td>4.005980</td>\n",
       "      <td>55.405441</td>\n",
       "      <td>28.845124</td>\n",
       "      <td>0.50123</td>\n",
       "    </tr>\n",
       "    <tr>\n",
       "      <th>min</th>\n",
       "      <td>0.000000</td>\n",
       "      <td>0.000000</td>\n",
       "      <td>0.000000</td>\n",
       "      <td>0.000000</td>\n",
       "      <td>0.000000</td>\n",
       "      <td>0.000000</td>\n",
       "      <td>0.000000</td>\n",
       "      <td>0.000000</td>\n",
       "      <td>20.000000</td>\n",
       "      <td>0.000000</td>\n",
       "      <td>...</td>\n",
       "      <td>23.000000</td>\n",
       "      <td>1.000000</td>\n",
       "      <td>3.900000</td>\n",
       "      <td>0.200000</td>\n",
       "      <td>0.000000</td>\n",
       "      <td>1.500000</td>\n",
       "      <td>0.100000</td>\n",
       "      <td>0.000000</td>\n",
       "      <td>0.000000</td>\n",
       "      <td>0.00000</td>\n",
       "    </tr>\n",
       "    <tr>\n",
       "      <th>25%</th>\n",
       "      <td>1.000000</td>\n",
       "      <td>0.000000</td>\n",
       "      <td>0.000000</td>\n",
       "      <td>1.000000</td>\n",
       "      <td>0.000000</td>\n",
       "      <td>0.000000</td>\n",
       "      <td>0.000000</td>\n",
       "      <td>0.000000</td>\n",
       "      <td>58.750000</td>\n",
       "      <td>19.250000</td>\n",
       "      <td>...</td>\n",
       "      <td>93.500000</td>\n",
       "      <td>109.750000</td>\n",
       "      <td>6.300000</td>\n",
       "      <td>0.717500</td>\n",
       "      <td>1.000000</td>\n",
       "      <td>3.175000</td>\n",
       "      <td>0.360000</td>\n",
       "      <td>46.000000</td>\n",
       "      <td>17.000000</td>\n",
       "      <td>0.00000</td>\n",
       "    </tr>\n",
       "    <tr>\n",
       "      <th>50%</th>\n",
       "      <td>1.000000</td>\n",
       "      <td>1.000000</td>\n",
       "      <td>1.000000</td>\n",
       "      <td>1.000000</td>\n",
       "      <td>0.000000</td>\n",
       "      <td>0.000000</td>\n",
       "      <td>0.000000</td>\n",
       "      <td>0.000000</td>\n",
       "      <td>67.000000</td>\n",
       "      <td>85.000000</td>\n",
       "      <td>...</td>\n",
       "      <td>184.500000</td>\n",
       "      <td>168.000000</td>\n",
       "      <td>7.000000</td>\n",
       "      <td>0.855000</td>\n",
       "      <td>2.000000</td>\n",
       "      <td>5.450000</td>\n",
       "      <td>0.700000</td>\n",
       "      <td>83.000000</td>\n",
       "      <td>30.500000</td>\n",
       "      <td>0.50000</td>\n",
       "    </tr>\n",
       "    <tr>\n",
       "      <th>75%</th>\n",
       "      <td>1.000000</td>\n",
       "      <td>1.000000</td>\n",
       "      <td>1.000000</td>\n",
       "      <td>1.000000</td>\n",
       "      <td>1.000000</td>\n",
       "      <td>1.000000</td>\n",
       "      <td>0.000000</td>\n",
       "      <td>0.250000</td>\n",
       "      <td>74.250000</td>\n",
       "      <td>100.000000</td>\n",
       "      <td>...</td>\n",
       "      <td>352.250000</td>\n",
       "      <td>277.250000</td>\n",
       "      <td>7.500000</td>\n",
       "      <td>1.102500</td>\n",
       "      <td>5.000000</td>\n",
       "      <td>9.000000</td>\n",
       "      <td>1.355000</td>\n",
       "      <td>111.250000</td>\n",
       "      <td>65.250000</td>\n",
       "      <td>1.00000</td>\n",
       "    </tr>\n",
       "    <tr>\n",
       "      <th>max</th>\n",
       "      <td>1.000000</td>\n",
       "      <td>1.000000</td>\n",
       "      <td>1.000000</td>\n",
       "      <td>1.000000</td>\n",
       "      <td>1.000000</td>\n",
       "      <td>1.000000</td>\n",
       "      <td>1.000000</td>\n",
       "      <td>1.000000</td>\n",
       "      <td>93.000000</td>\n",
       "      <td>500.000000</td>\n",
       "      <td>...</td>\n",
       "      <td>1575.000000</td>\n",
       "      <td>980.000000</td>\n",
       "      <td>102.000000</td>\n",
       "      <td>7.600000</td>\n",
       "      <td>5.000000</td>\n",
       "      <td>22.000000</td>\n",
       "      <td>29.300000</td>\n",
       "      <td>224.000000</td>\n",
       "      <td>126.000000</td>\n",
       "      <td>1.00000</td>\n",
       "    </tr>\n",
       "  </tbody>\n",
       "</table>\n",
       "<p>8 rows × 29 columns</p>\n",
       "</div>"
      ],
      "text/plain": [
       "           Gender    Symptoms     Alcohol   Cirrhosis     Smoking    Diabetes  \\\n",
       "count  204.000000  204.000000  204.000000  204.000000  204.000000  204.000000   \n",
       "mean     0.794118    0.691176    0.720588    0.897059    0.450980    0.357843   \n",
       "std      0.405340    0.463145    0.449814    0.304630    0.498815    0.480545   \n",
       "min      0.000000    0.000000    0.000000    0.000000    0.000000    0.000000   \n",
       "25%      1.000000    0.000000    0.000000    1.000000    0.000000    0.000000   \n",
       "50%      1.000000    1.000000    1.000000    1.000000    0.000000    0.000000   \n",
       "75%      1.000000    1.000000    1.000000    1.000000    1.000000    1.000000   \n",
       "max      1.000000    1.000000    1.000000    1.000000    1.000000    1.000000   \n",
       "\n",
       "          Obesity  Metastasis         Age   Grams_day    ...              GGT  \\\n",
       "count  204.000000  204.000000  204.000000  204.000000    ...       204.000000   \n",
       "mean     0.107843    0.250000   65.529412   75.294118    ...       271.441176   \n",
       "std      0.310945    0.434078   12.778296   63.181354    ...       251.681481   \n",
       "min      0.000000    0.000000   20.000000    0.000000    ...        23.000000   \n",
       "25%      0.000000    0.000000   58.750000   19.250000    ...        93.500000   \n",
       "50%      0.000000    0.000000   67.000000   85.000000    ...       184.500000   \n",
       "75%      0.000000    0.250000   74.250000  100.000000    ...       352.250000   \n",
       "max      1.000000    1.000000   93.000000  500.000000    ...      1575.000000   \n",
       "\n",
       "              ALP          TP  Creatinine      Nodule   Major_Dim     Dir_Bil  \\\n",
       "count  204.000000  204.000000  204.000000  204.000000  204.000000  204.000000   \n",
       "mean   221.176471    9.500490    1.137794    2.735294    6.888235    1.740637   \n",
       "std    168.852570   13.093015    0.950662    1.735894    4.832694    4.005980   \n",
       "min      1.000000    3.900000    0.200000    0.000000    1.500000    0.100000   \n",
       "25%    109.750000    6.300000    0.717500    1.000000    3.175000    0.360000   \n",
       "50%    168.000000    7.000000    0.855000    2.000000    5.450000    0.700000   \n",
       "75%    277.250000    7.500000    1.102500    5.000000    9.000000    1.355000   \n",
       "max    980.000000  102.000000    7.600000    5.000000   22.000000   29.300000   \n",
       "\n",
       "             Iron         Sat      Class  \n",
       "count  204.000000  204.000000  204.00000  \n",
       "mean    87.455392   39.948333    0.50000  \n",
       "std     55.405441   28.845124    0.50123  \n",
       "min      0.000000    0.000000    0.00000  \n",
       "25%     46.000000   17.000000    0.00000  \n",
       "50%     83.000000   30.500000    0.50000  \n",
       "75%    111.250000   65.250000    1.00000  \n",
       "max    224.000000  126.000000    1.00000  \n",
       "\n",
       "[8 rows x 29 columns]"
      ]
     },
     "execution_count": 13,
     "metadata": {},
     "output_type": "execute_result"
    }
   ],
   "source": [
    "# VISÃO ESTATÍSTICA GERAL\n",
    "df_1.describe()"
   ]
  },
  {
   "cell_type": "markdown",
   "metadata": {},
   "source": [
    "<kbd>Algumas Features estão apresentando valores mínimos e máximos muito discrepantes, o que  pode ser um problema<kbd>"
   ]
  },
  {
   "cell_type": "code",
   "execution_count": 14,
   "metadata": {},
   "outputs": [
    {
     "data": {
      "text/plain": [
       "<matplotlib.axes._subplots.AxesSubplot at 0x1c5f6b95e80>"
      ]
     },
     "execution_count": 14,
     "metadata": {},
     "output_type": "execute_result"
    },
    {
     "data": {
      "image/png": "[encoded data removed]",
      "text/plain": [
       "<Figure size 792x648 with 2 Axes>"
      ]
     },
     "metadata": {},
     "output_type": "display_data"
    }
   ],
   "source": [
    "# GRÁFICO DE CORRELAÇÃO\n",
    "\n",
    "f, ax = plt.subplots(figsize=(11, 9))\n",
    "corr = df_1.corr()\n",
    "mask = np.zeros_like(corr, dtype=np.bool)\n",
    "mask[np.triu_indices_from(mask)] = True\n",
    "cmap = sns.diverging_palette(220, 10, as_cmap=True)\n",
    "sns.heatmap(corr, mask=mask, cmap=cmap,vmax=.3, center=0,\n",
    "                 square=True, linewidths=.5, cbar_kws={\"shrink\": .5})"
   ]
  },
  {
   "cell_type": "markdown",
   "metadata": {},
   "source": [
    "<kbd>Se muitas variáveis forem altamente correlacionadas o modelo pode ser afetado de alguma maneira<kbd>"
   ]
  },
  {
   "cell_type": "markdown",
   "metadata": {},
   "source": [
    "### A seguir um pouco de exploração do conjunto de dados."
   ]
  },
  {
   "cell_type": "code",
   "execution_count": 15,
   "metadata": {},
   "outputs": [
    {
     "data": {
      "text/plain": [
       "<matplotlib.axes._subplots.AxesSubplot at 0x1c5f6b8a3c8>"
      ]
     },
     "execution_count": 15,
     "metadata": {},
     "output_type": "execute_result"
    },
    {
     "data": {
      "image/png": "[encoded data removed]",
      "text/plain": [
       "<Figure size 432x288 with 1 Axes>"
      ]
     },
     "metadata": {},
     "output_type": "display_data"
    }
   ],
   "source": [
    "# SOBREVIVÊNCIA POR IDADE\n",
    "# 0 = ÓBITO  1 = SOBREVIVE\n",
    "\n",
    "sns.boxplot(x=df_1.Class, y=df_1.Age)"
   ]
  },
  {
   "cell_type": "markdown",
   "metadata": {},
   "source": [
    "<kbd>A doença se concentra em pessoas com idade a partir dos 55 anos, com mais óbitos aos mais idosos<kbd>"
   ]
  },
  {
   "cell_type": "code",
   "execution_count": 16,
   "metadata": {
    "scrolled": false
   },
   "outputs": [
    {
     "data": {
      "text/plain": [
       "<seaborn.axisgrid.FacetGrid at 0x1c5f6d8a908>"
      ]
     },
     "execution_count": 16,
     "metadata": {},
     "output_type": "execute_result"
    },
    {
     "data": {
      "image/png": "[encoded data removed]",
      "text/plain": [
       "<Figure size 360x360 with 1 Axes>"
      ]
     },
     "metadata": {},
     "output_type": "display_data"
    }
   ],
   "source": [
    "# RELAÇÃO ENTRE IDADE E INGESTÃO DE ÁLCOOL POR DIA(Grams_day) DE PACIENTES QUE VIERAM A ÓBITO\n",
    "\n",
    "ing_alcool_obitos = df_1[df_1.Class == 0]\n",
    "sns.lmplot(x=\"Age\", y=\"Grams_day\", data=ing_alcool_obitos, fit_reg=True)"
   ]
  },
  {
   "cell_type": "markdown",
   "metadata": {},
   "source": [
    "<kbd>Dos casos que vieram a óbito, a ingestão de álcool parece um fator de forte influência<kbd>"
   ]
  },
  {
   "cell_type": "code",
   "execution_count": 17,
   "metadata": {},
   "outputs": [
    {
     "data": {
      "text/plain": [
       "<seaborn.axisgrid.FacetGrid at 0x1c5f6e59f28>"
      ]
     },
     "execution_count": 17,
     "metadata": {},
     "output_type": "execute_result"
    },
    {
     "data": {
      "image/png": "[encoded data removed]",
      "text/plain": [
       "<Figure size 764.875x360 with 2 Axes>"
      ]
     },
     "metadata": {},
     "output_type": "display_data"
    }
   ],
   "source": [
    "# RELAÇÃO DE IDADE E CONSUMO DIÁRIO DE ÁLCOOL POR GÊNERO, DE SOBREVIVENTES E ÓBITOS\n",
    "\n",
    "# Gender: gênero 0 FEMININO / 1 MASCULINO\n",
    "# Class : saída  0 ÓBITO / 1 SOBREVIVE\n",
    "\n",
    "sns.lmplot(data=df_1, x=\"Age\", y=\"Grams_day\",\n",
    "           hue='Gender', col=\"Class\", fit_reg=False)"
   ]
  },
  {
   "cell_type": "markdown",
   "metadata": {},
   "source": [
    "<kbd>A mesma comparação, só que agora expondo também o alto consumo diário de álcool dos que sobreviveram<kbd>"
   ]
  },
  {
   "cell_type": "markdown",
   "metadata": {},
   "source": [
    "## **6 . PRE-PROCESSAMENTO**"
   ]
  },
  {
   "cell_type": "code",
   "execution_count": 18,
   "metadata": {},
   "outputs": [],
   "source": [
    "# SEPARAÇÃO EM CONJUNTOS DE TREINO E TESTE\n",
    "\n",
    "X , y = df_1.iloc[:,:28].values , df_1.iloc[:,28].values\n",
    "\n",
    "from sklearn.model_selection import train_test_split\n",
    "\n",
    "X_train , X_test , y_train , y_test = train_test_split (X ,y , test_size = 0.3 , random_state = 42)"
   ]
  },
  {
   "cell_type": "code",
   "execution_count": 19,
   "metadata": {},
   "outputs": [
    {
     "data": {
      "text/plain": [
       "(142, 28)"
      ]
     },
     "execution_count": 19,
     "metadata": {},
     "output_type": "execute_result"
    }
   ],
   "source": [
    "X_train.shape"
   ]
  },
  {
   "cell_type": "code",
   "execution_count": 20,
   "metadata": {},
   "outputs": [
    {
     "data": {
      "text/plain": [
       "(62, 28)"
      ]
     },
     "execution_count": 20,
     "metadata": {},
     "output_type": "execute_result"
    }
   ],
   "source": [
    "X_test.shape"
   ]
  },
  {
   "cell_type": "code",
   "execution_count": 21,
   "metadata": {},
   "outputs": [],
   "source": [
    "from sklearn.metrics import average_precision_score\n",
    "from sklearn.metrics import roc_auc_score\n",
    "from sklearn.svm import SVC\n",
    "from sklearn.linear_model import LogisticRegression\n",
    "from sklearn.ensemble import RandomForestClassifier"
   ]
  },
  {
   "cell_type": "markdown",
   "metadata": {},
   "source": [
    "## **7 . MODELAGEM**"
   ]
  },
  {
   "cell_type": "markdown",
   "metadata": {},
   "source": [
    "### Comparando o desempenho de 3 modelos diferentes"
   ]
  },
  {
   "cell_type": "code",
   "execution_count": 42,
   "metadata": {
    "scrolled": true
   },
   "outputs": [
    {
     "data": {
      "text/plain": [
       "(0.41935483870967744, 0.5)"
      ]
     },
     "execution_count": 42,
     "metadata": {},
     "output_type": "execute_result"
    }
   ],
   "source": [
    "#SUPPORT VECTOR MACHINE CLASSIFIER\n",
    "\n",
    "modelo_svc = SVC (probability = True)\n",
    "modelo_svc.fit(X_train, y_train)\n",
    "\n",
    "p_svc = modelo_svc.predict_proba (X_test)[:,1]\n",
    "\n",
    "average_precision_score (y_test , p_svc) , roc_auc_score (y_test , p_svc)"
   ]
  },
  {
   "cell_type": "code",
   "execution_count": 38,
   "metadata": {},
   "outputs": [
    {
     "data": {
      "text/plain": [
       "(0.7280308472093562, 0.7767094017094017)"
      ]
     },
     "execution_count": 38,
     "metadata": {},
     "output_type": "execute_result"
    }
   ],
   "source": [
    "#LOGISTIC REGRESSION\n",
    "\n",
    "modelo_lr = LogisticRegression (C = 0.1, solver = 'liblinear' , class_weight = 'balanced')\n",
    "modelo_lr.fit(X_train, y_train)\n",
    "\n",
    "p_lr = modelo_lr.predict_proba (X_test)[:,1]\n",
    "\n",
    "average_precision_score (y_test , p_lr) , roc_auc_score (y_test , p_lr)"
   ]
  },
  {
   "cell_type": "code",
   "execution_count": 40,
   "metadata": {},
   "outputs": [
    {
     "data": {
      "text/plain": [
       "(0.6533892936331961, 0.7868589743589745)"
      ]
     },
     "execution_count": 40,
     "metadata": {},
     "output_type": "execute_result"
    }
   ],
   "source": [
    "#RANDOM FOREST\n",
    "\n",
    "modelo_rf = RandomForestClassifier ()\n",
    "modelo_rf.fit(X_train, y_train)\n",
    "\n",
    "p_rf = modelo_rf.predict_proba (X_test)[:,1]\n",
    "\n",
    "average_precision_score (y_test , p_rf) , roc_auc_score (y_test , p_rf)"
   ]
  },
  {
   "cell_type": "markdown",
   "metadata": {},
   "source": [
    "| MODELO | DESEMPENHO APS | DESEMPENHO AUC|\n",
    "| ------ | ----------- |\n",
    "| SVC   |0.41935483870967744| 0.5 |\n",
    "| RLOG | 0.7280308472093562| 0.7767094017094017 |\n",
    "| RFOREST    | 0.6533892936331961| 0.7868589743589745 |"
   ]
  },
  {
   "cell_type": "markdown",
   "metadata": {},
   "source": [
    "## **8.MODELAGEM COM OS DADOS PADRONIZADOS**"
   ]
  },
  {
   "cell_type": "code",
   "execution_count": 44,
   "metadata": {},
   "outputs": [],
   "source": [
    "# PADRONIZAÇÃO\n",
    "# O STANDARD SCALER PEGA CADA ATRIBUTO, SUBTRAI PELA MÉDIA DA FEATURE E DIVIDE PELO SEU DESVIO PADRÃO\n",
    "# APROXIMANDO AS MÉDIA A 0 E OS DP A 1\n",
    "\n",
    "from sklearn.preprocessing import StandardScaler\n",
    "stdsc = StandardScaler()\n",
    "X_train_std = stdsc.fit_transform(X_train)\n",
    "X_test_std = stdsc.fit_transform(X_test)"
   ]
  },
  {
   "cell_type": "code",
   "execution_count": 45,
   "metadata": {},
   "outputs": [
    {
     "data": {
      "text/plain": [
       "(0.7573214545662946, 0.7457264957264957)"
      ]
     },
     "execution_count": 45,
     "metadata": {},
     "output_type": "execute_result"
    }
   ],
   "source": [
    "#SUPPORT VECTOR MACHINE CLASSIFIER COM DADOS PADRONIZADOS\n",
    "\n",
    "modelo_svc = SVC (probability = True)\n",
    "modelo_svc.fit(X_train_std, y_train)\n",
    "\n",
    "p_std_svc = modelo_svc.predict_proba (X_test_std)[:,1]\n",
    "\n",
    "average_precision_score (y_test , p_std_svc) , roc_auc_score (y_test , p_std_svc)"
   ]
  },
  {
   "cell_type": "code",
   "execution_count": 46,
   "metadata": {},
   "outputs": [
    {
     "data": {
      "text/plain": [
       "(0.6868588277807947, 0.7243589743589743)"
      ]
     },
     "execution_count": 46,
     "metadata": {},
     "output_type": "execute_result"
    }
   ],
   "source": [
    "#LOGISTIC REGRESSION COM DADOS PADRONIZADOS\n",
    "\n",
    "modelo_lr = LogisticRegression (C = 0.1, solver = 'liblinear' , class_weight = 'balanced')\n",
    "modelo_lr.fit(X_train_std, y_train)\n",
    "\n",
    "p_std_lr = modelo_lr.predict_proba (X_test_std)[:,1]\n",
    "\n",
    "average_precision_score (y_test , p_std_lr) , roc_auc_score (y_test , p_std_lr)"
   ]
  },
  {
   "cell_type": "code",
   "execution_count": 47,
   "metadata": {},
   "outputs": [
    {
     "data": {
      "text/plain": [
       "(0.7066097188603494, 0.7783119658119659)"
      ]
     },
     "execution_count": 47,
     "metadata": {},
     "output_type": "execute_result"
    }
   ],
   "source": [
    "#RANDOM FOREST COM DADOS PADRONIZADOS\n",
    "\n",
    "modelo_rf = RandomForestClassifier ()\n",
    "modelo_rf.fit(X_train_std, y_train)\n",
    "\n",
    "p_std_rf = modelo_rf.predict_proba (X_test_std)[:,1]\n",
    "\n",
    "average_precision_score (y_test , p_std_rf) , roc_auc_score (y_test , p_std_rf)"
   ]
  },
  {
   "cell_type": "markdown",
   "metadata": {},
   "source": [
    "| MODELO | DESEMPENHO APS | DESEMPENHO AUC|\n",
    "| ------ | ----------- |\n",
    "| SVC   |0.41935483870967744| 0.5 |\n",
    "| RLOG | 0.7280308472093562| 0.7767094017094017 |\n",
    "| RFOREST    | 0.6533892936331961| 0.7868589743589745 |\n",
    "| SVC_PADRON   |0.7573214545662946| 0.7457264957264957 |\n",
    "| RLOG_PADRON | 0.6868588277807947| 0.7243589743589743 |\n",
    "| RFOREST_PADRON    | 0.7066097188603494| 0.7783119658119659 |"
   ]
  },
  {
   "cell_type": "markdown",
   "metadata": {},
   "source": [
    "## **9.MODELAGEM COM ENSEMBLE**"
   ]
  },
  {
   "cell_type": "code",
   "execution_count": 49,
   "metadata": {},
   "outputs": [
    {
     "data": {
      "text/plain": [
       "(0.7976654969434712, 0.8044871794871795)"
      ]
     },
     "execution_count": 49,
     "metadata": {},
     "output_type": "execute_result"
    }
   ],
   "source": [
    "#ENSEMLE COM DADOS ORIGINAIS\n",
    "\n",
    "from sklearn.ensemble import VotingClassifier\n",
    "\n",
    "modelo_vot = VotingClassifier( estimators = [('lr',modelo_lr) , ('rf',modelo_rf) , ('svc', modelo_svc)] , voting = 'soft')\n",
    "modelo_vot.fit(X_train , y_train)\n",
    "\n",
    "p_modelo_vot = modelo_vot.predict_proba (X_test)[:,1]\n",
    "\n",
    "average_precision_score (y_test , p_modelo_vot) , roc_auc_score (y_test , p_modelo_vot)"
   ]
  },
  {
   "cell_type": "code",
   "execution_count": 50,
   "metadata": {},
   "outputs": [
    {
     "data": {
      "text/plain": [
       "(0.7713415868898548, 0.7638888888888888)"
      ]
     },
     "execution_count": 50,
     "metadata": {},
     "output_type": "execute_result"
    }
   ],
   "source": [
    "#ENSEMBLE COM DADOS PADRONIZADOS\n",
    "\n",
    "modelo_vot.fit(X_train_std , y_train)\n",
    "\n",
    "p_std_modelo_vot = modelo_vot.predict_proba (X_test_std)[:,1]\n",
    "\n",
    "average_precision_score (y_test , p_std_modelo_vot) , roc_auc_score (y_test , p_std_modelo_vot)"
   ]
  },
  {
   "cell_type": "markdown",
   "metadata": {},
   "source": [
    "| MODELO | DESEMPENHO APS | DESEMPENHO AUC|\n",
    "| ------ | ----------- |\n",
    "| SVC   |0.41935483870967744| 0.5 |\n",
    "| RLOG | 0.7280308472093562| 0.7767094017094017 |\n",
    "| RFOREST    | 0.6533892936331961| 0.7868589743589745 |\n",
    "| SVC_PADRON   |0.7573214545662946| 0.7457264957264957 |\n",
    "| RLOG_PADRON | 0.6868588277807947| 0.7243589743589743 |\n",
    "| RFOREST_PADRON    | 0.7066097188603494| 0.7783119658119659 |\n",
    "| VOTING_ORIG | 0.7976654969434712| 0.8044871794871795 |\n",
    "| VOTING_PADRON   | 0.7713415868898548| 0.7638888888888888 |\n"
   ]
  },
  {
   "cell_type": "markdown",
   "metadata": {},
   "source": [
    "### O melhor desempenho no Average Precision Score (precision + recall) e no Roc AUC Score (média de exemplos aleatórios) se deu com a aplicação de um modelo de ENSEMBLE. Lembrando que o método do ENSEMBLE reúne as previsões de todos os modelos aplicados anteriormente (Suport Vector Machine, Logistic Regression e Random Forest) escolhendo as suas previsões por maioria de votos."
   ]
  },
  {
   "cell_type": "code",
   "execution_count": null,
   "metadata": {},
   "outputs": [],
   "source": []
  }
 ],
 "metadata": {
  "kernelspec": {
   "display_name": "Python 3",
   "language": "python",
   "name": "python3"
  },
  "language_info": {
   "codemirror_mode": {
    "name": "ipython",
    "version": 3
   },
   "file_extension": ".py",
   "mimetype": "text/x-python",
   "name": "python",
   "nbconvert_exporter": "python",
   "pygments_lexer": "ipython3",
   "version": "3.6.5"
  }
 },
 "nbformat": 4,
 "nbformat_minor": 2
}
